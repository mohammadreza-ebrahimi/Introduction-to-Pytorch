{
 "cells": [
  {
   "cell_type": "markdown",
   "metadata": {
    "id": "Ak3Y40nye5E2"
   },
   "source": [
    "## Hello to PyTorch !\n",
    "***Introduction***"
   ]
  },
  {
   "cell_type": "code",
   "execution_count": null,
   "metadata": {
    "colab": {
     "base_uri": "https://localhost:8080/"
    },
    "id": "CpD5iuIqSLzC",
    "outputId": "1cd270b5-95f4-4b51-c85b-b462d9bee500"
   },
   "outputs": [
    {
     "name": "stdout",
     "output_type": "stream",
     "text": [
      "1.9.0+cu102\n"
     ]
    }
   ],
   "source": [
    "import numpy as np\n",
    "import torch\n",
    "print(torch.__version__)"
   ]
  },
  {
   "cell_type": "code",
   "execution_count": null,
   "metadata": {
    "id": "IIiyk__HSjTU"
   },
   "outputs": [],
   "source": [
    "x = np.arange(16).reshape(4, 4)\n",
    "x = torch.tensor(x, dtype=torch.float32) \n",
    "# or x = torch.arange(0, 16).reshpe(4, 4).to(torch.float32)"
   ]
  },
  {
   "cell_type": "code",
   "execution_count": null,
   "metadata": {
    "colab": {
     "base_uri": "https://localhost:8080/"
    },
    "id": "LB3dzIpZc2_r",
    "outputId": "fc48324b-78ba-4eed-d0f0-e14b207e53ef"
   },
   "outputs": [
    {
     "data": {
      "text/plain": [
       "tensor([[ 0.,  1.,  2.,  3.],\n",
       "        [ 4.,  5.,  6.,  7.],\n",
       "        [ 8.,  9., 10., 11.],\n",
       "        [12., 13., 14., 15.]])"
      ]
     },
     "execution_count": 3,
     "metadata": {
      "tags": []
     },
     "output_type": "execute_result"
    }
   ],
   "source": [
    "x"
   ]
  },
  {
   "cell_type": "code",
   "execution_count": null,
   "metadata": {
    "colab": {
     "base_uri": "https://localhost:8080/"
    },
    "id": "HFl3y3dtc6i_",
    "outputId": "660c9117-0187-41a5-e241-f36c8c851647"
   },
   "outputs": [
    {
     "data": {
      "text/plain": [
       "tensor([0, 1, 2, 3, 4])"
      ]
     },
     "execution_count": 4,
     "metadata": {
      "tags": []
     },
     "output_type": "execute_result"
    }
   ],
   "source": [
    "y = torch.arange(5)\n",
    "y"
   ]
  },
  {
   "cell_type": "code",
   "execution_count": null,
   "metadata": {
    "colab": {
     "base_uri": "https://localhost:8080/",
     "height": 164
    },
    "id": "EX5pbtfndhrC",
    "outputId": "98ed9e06-6a1f-4009-d78f-7f24346a722d"
   },
   "outputs": [
    {
     "ename": "RuntimeError",
     "evalue": "ignored",
     "output_type": "error",
     "traceback": [
      "\u001b[0;31m---------------------------------------------------------------------------\u001b[0m",
      "\u001b[0;31mRuntimeError\u001b[0m                              Traceback (most recent call last)",
      "\u001b[0;32m<ipython-input-5-4eb7c0d2dd02>\u001b[0m in \u001b[0;36m<module>\u001b[0;34m()\u001b[0m\n\u001b[0;32m----> 1\u001b[0;31m \u001b[0my\u001b[0m\u001b[0;34m.\u001b[0m\u001b[0mmean\u001b[0m\u001b[0;34m(\u001b[0m\u001b[0;34m)\u001b[0m  \u001b[0;31m# It has been written incorrectly, then we have :\u001b[0m\u001b[0;34m\u001b[0m\u001b[0;34m\u001b[0m\u001b[0m\n\u001b[0m",
      "\u001b[0;31mRuntimeError\u001b[0m: Can only calculate the mean of floating types. Got Long instead."
     ]
    }
   ],
   "source": [
    "y.mean()  # It has been written incorrectly, then we have :\n"
   ]
  },
  {
   "cell_type": "code",
   "execution_count": null,
   "metadata": {
    "colab": {
     "base_uri": "https://localhost:8080/"
    },
    "id": "kIozblSkd9Or",
    "outputId": "9f0a025b-b462-4798-e58d-c57394d282c9"
   },
   "outputs": [
    {
     "data": {
      "text/plain": [
       "tensor(2., dtype=torch.float64)"
      ]
     },
     "execution_count": 6,
     "metadata": {
      "tags": []
     },
     "output_type": "execute_result"
    }
   ],
   "source": [
    "y.to(float).mean()\n",
    "# OR at the definition it can be y = torch.arange(5).to(float)"
   ]
  },
  {
   "cell_type": "code",
   "execution_count": null,
   "metadata": {
    "colab": {
     "base_uri": "https://localhost:8080/"
    },
    "id": "JJbd4CsweL6y",
    "outputId": "6c213b43-ce16-46f5-8a08-bdc0b8c8e731"
   },
   "outputs": [
    {
     "data": {
      "text/plain": [
       "tensor([0.5000, 1.0000])"
      ]
     },
     "execution_count": 7,
     "metadata": {
      "tags": []
     },
     "output_type": "execute_result"
    }
   ],
   "source": [
    "z = torch.tensor([1, 2]).float()\n",
    "z /= 2\n",
    "z"
   ]
  },
  {
   "cell_type": "markdown",
   "metadata": {
    "id": "crthKxBygBye"
   },
   "source": [
    "**General pipline is looked as below**\n",
    "  - `torch.zeros(5, requires_grad=True)`\n",
    "  - `torch.tensor(np.arange(5), dtype=torch.float32, requires_grad=True)`\n",
    "\n",
    "**`x.forward()`** computes the output tensor by given input tensor x.\n",
    "\n",
    "**`x.backward()`** receives the gradient of the output Tensors with respect to some scalar value, and computes the gradient of the input Tensors with respect to that same scalar value."
   ]
  },
  {
   "cell_type": "code",
   "execution_count": null,
   "metadata": {
    "colab": {
     "base_uri": "https://localhost:8080/"
    },
    "id": "oRVclU1yfp_T",
    "outputId": "5f2486c6-4cc5-4e25-af76-79ffbe5177d1"
   },
   "outputs": [
    {
     "data": {
      "text/plain": [
       "tensor(1.)"
      ]
     },
     "execution_count": 8,
     "metadata": {
      "tags": []
     },
     "output_type": "execute_result"
    }
   ],
   "source": [
    "x = torch.tensor(0., requires_grad=True)\n",
    "y = torch.sin(x)\n",
    "y.backward()\n",
    "x.grad"
   ]
  },
  {
   "cell_type": "code",
   "execution_count": null,
   "metadata": {
    "colab": {
     "base_uri": "https://localhost:8080/"
    },
    "id": "USJ0dt84kitv",
    "outputId": "4e47713b-a755-44ad-e1b6-845c4e890a66"
   },
   "outputs": [
    {
     "name": "stdout",
     "output_type": "stream",
     "text": [
      "x.grad= None\n",
      "x.grad= tensor(1.)\n",
      "x.grad= tensor(2.)\n"
     ]
    }
   ],
   "source": [
    "x = torch.tensor(0., requires_grad=True)\n",
    "y1 = torch.sin(x)\n",
    "y2 = torch.sin(x)\n",
    "\n",
    "print(\"x.grad=\", x.grad)\n",
    "y1.backward()\n",
    "print(\"x.grad=\", x.grad)\n",
    "y2.backward()\n",
    "print(\"x.grad=\", x.grad)"
   ]
  },
  {
   "cell_type": "markdown",
   "metadata": {
    "id": "YuyOU3UlqHOV"
   },
   "source": [
    " ### Generating linear data in PyTorch"
   ]
  },
  {
   "cell_type": "code",
   "execution_count": null,
   "metadata": {
    "colab": {
     "base_uri": "https://localhost:8080/"
    },
    "id": "tCECL28etxMg",
    "outputId": "1ce61d9d-ddcc-408b-a189-defc128f6a48"
   },
   "outputs": [
    {
     "name": "stdout",
     "output_type": "stream",
     "text": [
      "Checking autograd result equals to analytical derivative.\n",
      "    check result: True\n"
     ]
    }
   ],
   "source": [
    "# Remember we have previously defined MSE loss with its gradient?\n",
    "# With torch we could've skipped the gradient part:\n",
    "\n",
    "def MSELoss(y, yhat):\n",
    "    return ((y - yhat)**2).mean()\n",
    "\n",
    "y = torch.normal(0., 1., size=(100,))\n",
    "yhat = torch.normal(0., 1., size=(100,), requires_grad=True)\n",
    "\n",
    "loss = MSELoss(y, yhat)\n",
    "loss.backward()\n",
    "\n",
    "print(\"Checking autograd result equals to analytical derivative.\")\n",
    "print(\"    check result:\", torch.allclose(yhat.grad, 2 * (yhat - y) / y.shape[0]))"
   ]
  },
  {
   "cell_type": "code",
   "execution_count": null,
   "metadata": {
    "colab": {
     "base_uri": "https://localhost:8080/",
     "height": 282
    },
    "id": "atLzcNGwpCQY",
    "outputId": "78ec280e-188e-4501-addf-9218b036807b"
   },
   "outputs": [
    {
     "name": "stdout",
     "output_type": "stream",
     "text": [
      "2.496781349182129\n"
     ]
    },
    {
     "data": {
      "image/png": "[encoded data removed]",
      "text/plain": [
       "<Figure size 432x288 with 1 Axes>"
      ]
     },
     "metadata": {
      "needs_background": "light",
      "tags": []
     },
     "output_type": "display_data"
    }
   ],
   "source": [
    "import matplotlib.pyplot as plt\n",
    "\n",
    "x = torch.tensor(np.random.uniform(-3, 5, 100), dtype=torch.float32)\n",
    "# y = 2.5 * x + noise \n",
    "y = 2.5 * x + torch.normal(mean=0, std=0.4, size=x.shape) \n",
    "\n",
    "w = torch.tensor(0., dtype=torch.float32, requires_grad=True)\n",
    "\n",
    "w_value_history = [\n",
    "                   w.item()\n",
    "]  # Python list with python numbers . item() transforms tensor to the python number\n",
    "\n",
    "for i in range(100):\n",
    "  loss = MSELoss(y, w * x)\n",
    "  loss.backward() # gradient with respect to 'w'\n",
    "  with torch.no_grad():  #  = \"don't calculate gradients in the block below\"\n",
    "    '''\n",
    "    It means whatever contains in block below, it is not required to \n",
    "    calculate gradient for. Follwoing calcuation would not be attached to \n",
    "    the calculation graph.\n",
    "    '''\n",
    "    w -= 0.01 * w.grad   # Learning rate * last value of the w\n",
    "\n",
    "  w.grad.zero_()\n",
    "  w_value_history.append(w.item())\n",
    "\n",
    "plt.plot(w_value_history)\n",
    "print(w_value_history[100])"
   ]
  },
  {
   "cell_type": "code",
   "execution_count": null,
   "metadata": {
    "colab": {
     "base_uri": "https://localhost:8080/",
     "height": 265
    },
    "id": "ysoDHn-guyQl",
    "outputId": "c346f1c5-2463-4e6c-b379-ebcb56c92062"
   },
   "outputs": [
    {
     "data": {
      "image/png": "[encoded data removed]",
      "text/plain": [
       "<Figure size 432x288 with 1 Axes>"
      ]
     },
     "metadata": {
      "needs_background": "light",
      "tags": []
     },
     "output_type": "display_data"
    }
   ],
   "source": [
    "x = torch.linspace(-2, 2, 1000, requires_grad=True)\n",
    "y = x ** 2\n",
    "'''\n",
    "Note: since `x` and `y` are both vectors, the derivative is\n",
    " defined in the form of Jacobian dy/dx.\n",
    " For such cases `backward()` is implemented to calculate\n",
    " the Jacobian multiplied by some other vector that you\n",
    " have to provide as an argument e.g. `y.backward(some_vector)` -\n",
    " this will return Jacobian dy/dx times `some_vector`.\n",
    "\n",
    " Since our Jacobian is diagonal, the following code will return\n",
    " per-element derivative values:\n",
    " '''\n",
    "y.backward(torch.ones_like(y))\n",
    "\n",
    "plt.plot(x.detach(), y.detach(), label='y = x^2')\n",
    "plt.plot(x.detach(), x.grad, label=\"dy/dx\")\n",
    "plt.legend();\n",
    "plt.grid(True);"
   ]
  },
  {
   "cell_type": "code",
   "execution_count": null,
   "metadata": {
    "colab": {
     "base_uri": "https://localhost:8080/",
     "height": 265
    },
    "id": "TOESdXcFCHtn",
    "outputId": "65064790-95e7-4e84-b1b7-a74a723a71f5"
   },
   "outputs": [
    {
     "data": {
      "image/png": "[encoded data removed]",
      "text/plain": [
       "<Figure size 432x288 with 1 Axes>"
      ]
     },
     "metadata": {
      "needs_background": "light",
      "tags": []
     },
     "output_type": "display_data"
    }
   ],
   "source": [
    "x = torch.linspace(-2, 2, 1000, requires_grad=True)\n",
    "y = x ** 3\n",
    "\n",
    "first_derivative, = torch.autograd.grad(y, x, torch.ones_like(y), create_graph=True)\n",
    "# \"create_graph\" required to be able to calculate derivative of the derivative later \n",
    "# The output is attached to the calculatin graph so it is essential to calculate the second derivative \n",
    "\n",
    "\n",
    "second_derivative, = torch.autograd.grad(first_derivative, x, torch.ones_like(first_derivative))\n",
    "plt.plot(x.detach(), y.detach(), label='y = x^3')\n",
    "plt.plot(x.detach(), first_derivative.detach(), label=\"dy/dx\")\n",
    "plt.plot(x.detach(), second_derivative, label=\"d^2y/dx^2\")\n",
    "plt.legend();\n",
    "plt.grid(True);"
   ]
  },
  {
   "cell_type": "code",
   "execution_count": null,
   "metadata": {
    "colab": {
     "base_uri": "https://localhost:8080/"
    },
    "id": "SBqLjPoBHHkH",
    "outputId": "29207d5d-e7e0-4c1e-fae4-1dde5c03a256"
   },
   "outputs": [
    {
     "data": {
      "text/plain": [
       "torch.Size([1000])"
      ]
     },
     "execution_count": 14,
     "metadata": {
      "tags": []
     },
     "output_type": "execute_result"
    }
   ],
   "source": [
    "first_derivative.size() # It is vectore which is related to y elementwise"
   ]
  },
  {
   "cell_type": "code",
   "execution_count": null,
   "metadata": {
    "id": "SLD1shLaHpZZ"
   },
   "outputs": [],
   "source": []
  }
 ],
 "metadata": {
  "colab": {
   "collapsed_sections": [],
   "name": "Hello-torch.ipynb",
   "provenance": []
  },
  "kernelspec": {
   "display_name": "Python 3 (ipykernel)",
   "language": "python",
   "name": "python3"
  },
  "language_info": {
   "codemirror_mode": {
    "name": "ipython",
    "version": 3
   },
   "file_extension": ".py",
   "mimetype": "text/x-python",
   "name": "python",
   "nbconvert_exporter": "python",
   "pygments_lexer": "ipython3",
   "version": "3.8.5"
  }
 },
 "nbformat": 4,
 "nbformat_minor": 1
}
