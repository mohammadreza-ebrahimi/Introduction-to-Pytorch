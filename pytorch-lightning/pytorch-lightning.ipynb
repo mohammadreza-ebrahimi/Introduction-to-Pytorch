{
 "cells": [
  {
   "cell_type": "code",
   "execution_count": 1,
   "id": "75fd4cb8",
   "metadata": {},
   "outputs": [],
   "source": [
    "import os\n",
    "import torch\n",
    "from torch import nn\n",
    "import torch.nn.functional as F\n",
    "from IPython.display import clear_output\n",
    "import matplotlib.pyplot as plt\n",
    "import numpy as np\n",
    "import tqdm\n",
    "from torch.utils.tensorboard import SummaryWriter"
   ]
  },
  {
   "cell_type": "code",
   "execution_count": 2,
   "id": "f6ab0ecc",
   "metadata": {},
   "outputs": [],
   "source": [
    "import pytorch_lightning as pl\n",
    "import comet_ml"
   ]
  },
  {
   "cell_type": "code",
   "execution_count": 3,
   "id": "fc05da1b",
   "metadata": {},
   "outputs": [
    {
     "name": "stdout",
     "output_type": "stream",
     "text": [
      "NVIDIA GeForce 940MX\n"
     ]
    }
   ],
   "source": [
    "gpu = print(torch.cuda.get_device_name() if torch.cuda.is_available else 'cpu')"
   ]
  },
  {
   "cell_type": "code",
   "execution_count": 16,
   "id": "91fa82af",
   "metadata": {},
   "outputs": [],
   "source": [
    "AVAIL_GPUS = min(1, torch.cuda.device_count())"
   ]
  },
  {
   "cell_type": "code",
   "execution_count": 17,
   "id": "d3a8b580",
   "metadata": {},
   "outputs": [
    {
     "name": "stdout",
     "output_type": "stream",
     "text": [
      "cuda\n"
     ]
    }
   ],
   "source": [
    "device = print('cuda' if torch.cuda.is_available() else 'cpu')"
   ]
  },
  {
   "cell_type": "code",
   "execution_count": 6,
   "id": "c4bda7f4",
   "metadata": {},
   "outputs": [],
   "source": [
    "from torchvision import datasets\n",
    "import torchvision.transforms as transforms\n",
    "\n",
    "transform=transforms.Compose([\n",
    "        transforms.ToTensor(),\n",
    "        transforms.Normalize((0.5), (0.5)),\n",
    "])"
   ]
  },
  {
   "cell_type": "code",
   "execution_count": 7,
   "id": "f175db0e",
   "metadata": {},
   "outputs": [
    {
     "name": "stderr",
     "output_type": "stream",
     "text": [
      "/home/mohammadreza/.local/lib/python3.8/site-packages/torchvision/datasets/mnist.py:498: UserWarning: The given NumPy array is not writeable, and PyTorch does not support non-writeable tensors. This means you can write to the underlying (supposedly non-writeable) NumPy array using the tensor. You may want to copy the array to protect its data or make it writeable before converting it to a tensor. This type of warning will be suppressed for the rest of this program. (Triggered internally at  /pytorch/torch/csrc/utils/tensor_numpy.cpp:180.)\n",
      "  return torch.from_numpy(parsed.astype(m[2], copy=False)).view(*s)\n"
     ]
    }
   ],
   "source": [
    "ds_train = datasets.MNIST('/home/mohammadreza/share/data', train=True, download=False, transform=transform)\n",
    "ds_test = datasets.MNIST('~/share/data', train=False, download=False, transform=transform)"
   ]
  },
  {
   "cell_type": "code",
   "execution_count": 8,
   "id": "5be0eb46",
   "metadata": {},
   "outputs": [
    {
     "name": "stdout",
     "output_type": "stream",
     "text": [
      "Wed Aug 25 11:52:23 2021       \r\n",
      "+-----------------------------------------------------------------------------+\r\n",
      "| NVIDIA-SMI 470.57.02    Driver Version: 470.57.02    CUDA Version: 11.4     |\r\n",
      "|-------------------------------+----------------------+----------------------+\r\n",
      "| GPU  Name        Persistence-M| Bus-Id        Disp.A | Volatile Uncorr. ECC |\r\n",
      "| Fan  Temp  Perf  Pwr:Usage/Cap|         Memory-Usage | GPU-Util  Compute M. |\r\n",
      "|                               |                      |               MIG M. |\r\n",
      "|===============================+======================+======================|\r\n",
      "|   0  NVIDIA GeForce ...  On   | 00000000:01:00.0 Off |                  N/A |\r\n",
      "| N/A   52C    P0    N/A /  N/A |    481MiB /  4046MiB |      5%      Default |\r\n",
      "|                               |                      |                  N/A |\r\n",
      "+-------------------------------+----------------------+----------------------+\r\n",
      "                                                                               \r\n",
      "+-----------------------------------------------------------------------------+\r\n",
      "| Processes:                                                                  |\r\n",
      "|  GPU   GI   CI        PID   Type   Process name                  GPU Memory |\r\n",
      "|        ID   ID                                                   Usage      |\r\n",
      "|=============================================================================|\r\n",
      "|    0   N/A  N/A      1116      G   /usr/lib/xorg/Xorg                 37MiB |\r\n",
      "|    0   N/A  N/A      1676      G   /usr/lib/xorg/Xorg                158MiB |\r\n",
      "|    0   N/A  N/A      1860      G   /usr/bin/gnome-shell              104MiB |\r\n",
      "|    0   N/A  N/A      3120      G   ...AAAAAAAAA= --shared-files       17MiB |\r\n",
      "|    0   N/A  N/A      3228      G   ...AAAAAAAAA= --shared-files       17MiB |\r\n",
      "|    0   N/A  N/A      3539      G   /usr/bin/totem                     13MiB |\r\n",
      "|    0   N/A  N/A      3695      G   /usr/lib/firefox/firefox          116MiB |\r\n",
      "+-----------------------------------------------------------------------------+\r\n"
     ]
    }
   ],
   "source": [
    "!nvidia-smi"
   ]
  },
  {
   "cell_type": "code",
   "execution_count": 9,
   "id": "faa2e6c8",
   "metadata": {},
   "outputs": [
    {
     "name": "stdout",
     "output_type": "stream",
     "text": [
      "nvcc: NVIDIA (R) Cuda compiler driver\r\n",
      "Copyright (c) 2005-2021 NVIDIA Corporation\r\n",
      "Built on Wed_Jul_14_19:41:19_PDT_2021\r\n",
      "Cuda compilation tools, release 11.4, V11.4.100\r\n",
      "Build cuda_11.4.r11.4/compiler.30188945_0\r\n"
     ]
    }
   ],
   "source": [
    "!nvcc -V"
   ]
  },
  {
   "cell_type": "code",
   "execution_count": 10,
   "id": "81061eaf",
   "metadata": {},
   "outputs": [
    {
     "name": "stdout",
     "output_type": "stream",
     "text": [
      "Number of alailable GPU:  1\n"
     ]
    }
   ],
   "source": [
    "BATCH_SIZE = 256 if num_gpu else 64\n",
    "print('Number of alailable GPU: ', num_gpu)"
   ]
  },
  {
   "cell_type": "code",
   "execution_count": 11,
   "id": "467d0640",
   "metadata": {},
   "outputs": [],
   "source": [
    "trainloader = torch.utils.data.DataLoader(ds_train, num_workers=2,\n",
    "                                         batch_size=BATCH_SIZE, shuffle=True)\n",
    "testloader = torch.utils.data.DataLoader(ds_test, batch_size=1000,\n",
    "                                        shuffle=False, num_workers=2)"
   ]
  },
  {
   "cell_type": "code",
   "execution_count": 21,
   "id": "aa766087",
   "metadata": {},
   "outputs": [],
   "source": [
    "# defining the model with nn.Module\n",
    "class MNISTModel(pl.LightningModule): # special calss allows you\n",
    "    #to define many more components that are available to be trained at neural network\n",
    "    def __init__(self, n=100):\n",
    "        super(MNISTModel, self).__init__()\n",
    "        self.l1 = nn.Linear(28 * 28, n)\n",
    "        self.l2 = nn.Linear(n, 10)\n",
    "        \n",
    "    def forward(self, x):\n",
    "        y_hat = self.l2(F.relu(self.l1(x.flatten(1))))\n",
    "        # we need to apply the layers into flatten version of input\n",
    "        \n",
    "        return y_hat\n",
    "    \n",
    "    '''\n",
    "    Till here is same as the method we used is from \"nn.Sequenstial\" to \n",
    "    \n",
    "    \"nn.Module\". By follosing we define \"train_step\", \"test_step\", \n",
    "    \n",
    "    \"validation_step\" and \"prediction_step\" by using inner mothods of\n",
    "    \n",
    "    \"LightningModule\"\n",
    "    '''\n",
    "    \n",
    "    def training_step(self, batch, batch_nb):\n",
    "        x, y = batch\n",
    "        loss = F.cross_entropy(self(x), y)\n",
    "        self.log('train_loss', loss, on_epoch=True, logger=True)\n",
    "        # The \"self.log\" method, use internal pytorch.lightning facilities.\n",
    "        # since this is for logging intermediate values\n",
    "        return loss\n",
    "        \n",
    "    def validation_step(self, batch, batch_nb):\n",
    "        x, y = batch\n",
    "        loss = F.cross_entropy(self(x), y)\n",
    "        self.log('val_loss', loss)\n",
    "        return loss\n",
    "    \n",
    "    def test_step(self, batch, batch_nb):\n",
    "        x, y = batch\n",
    "        loss = F.cross_entropy(self(x), y)\n",
    "        self.log('test_loss', loss)\n",
    "        return loss\n",
    "    \n",
    "    def predict_step(self, batch, *args):\n",
    "        x, _ = batch\n",
    "        return self(x)\n",
    "    \n",
    "    def configure_optimizers(self):\n",
    "        opt = torch.optim.Adam(self.parameters(), lr=0.02)\n",
    "        return opt\n",
    "        \n",
    "            "
   ]
  },
  {
   "cell_type": "code",
   "execution_count": 22,
   "id": "c3ceaecb",
   "metadata": {},
   "outputs": [],
   "source": [
    "model2 = MNISTModel()"
   ]
  },
  {
   "cell_type": "code",
   "execution_count": 23,
   "id": "2df5763b",
   "metadata": {},
   "outputs": [],
   "source": [
    "X_batch, y_batch = iter(trainloader).next()"
   ]
  },
  {
   "cell_type": "code",
   "execution_count": 24,
   "id": "036d5934",
   "metadata": {},
   "outputs": [
    {
     "data": {
      "image/png": "[encoded data removed]",
      "text/plain": [
       "<Figure size 576x576 with 9 Axes>"
      ]
     },
     "metadata": {
      "needs_background": "light"
     },
     "output_type": "display_data"
    }
   ],
   "source": [
    "# Draw the images\n",
    "figure = plt.figure(figsize=(8, 8))\n",
    "cols, rows = 3, 3\n",
    "for i in range(1, cols * rows + 1):\n",
    "    sample_idx = torch.randint(len(ds_train), size=(1,)).item()\n",
    "    img, label = ds_train[sample_idx]\n",
    "    figure.add_subplot(rows, cols, i)\n",
    "    plt.title(f\"{label}\")\n",
    "    plt.axis(\"off\")\n",
    "    plt.imshow(img.squeeze(), cmap=\"gray\")\n",
    "plt.show()"
   ]
  },
  {
   "cell_type": "markdown",
   "id": "ae413d8f",
   "metadata": {},
   "source": [
    "**Trainer**  \n",
    "_The most important part of the PyTorch Ligtning_  \n",
    "It is a code that automates **traning**, **testing** and **validating** of your neural network. \n",
    "First you have construct an instance. Then fit it on your model.  \n",
    "\n",
    "```python\n",
    "trainer = Trainer()\n",
    "trianer.fit(model, train_dataloader, val_dataloader)\n",
    "```"
   ]
  },
  {
   "cell_type": "code",
   "execution_count": 30,
   "id": "46d8557c",
   "metadata": {},
   "outputs": [
    {
     "name": "stderr",
     "output_type": "stream",
     "text": [
      "GPU available: True, used: True\n",
      "TPU available: False, using: 0 TPU cores\n",
      "IPU available: False, using: 0 IPUs\n"
     ]
    }
   ],
   "source": [
    "trainer = pl.Trainer(\n",
    "    gpus = AVAIL_GPUS,\n",
    "    max_epochs=1,\n",
    "    progress_bar_refresh_rate=20,\n",
    "    auto_select_gpus=True\n",
    "    \n",
    ")"
   ]
  },
  {
   "cell_type": "code",
   "execution_count": 31,
   "id": "549aa9fc",
   "metadata": {},
   "outputs": [
    {
     "name": "stderr",
     "output_type": "stream",
     "text": [
      "LOCAL_RANK: 0 - CUDA_VISIBLE_DEVICES: [0]\n",
      "\n",
      "  | Name | Type   | Params\n",
      "--------------------------------\n",
      "0 | l1   | Linear | 78.5 K\n",
      "1 | l2   | Linear | 1.0 K \n",
      "--------------------------------\n",
      "79.5 K    Trainable params\n",
      "0         Non-trainable params\n",
      "79.5 K    Total params\n",
      "0.318     Total estimated model params size (MB)\n"
     ]
    },
    {
     "data": {
      "application/vnd.jupyter.widget-view+json": {
       "model_id": "bf2d53904f92443586d02d722b3f7fe9",
       "version_major": 2,
       "version_minor": 0
      },
      "text/plain": [
       "Validation sanity check: 0it [00:00, ?it/s]"
      ]
     },
     "metadata": {},
     "output_type": "display_data"
    },
    {
     "name": "stderr",
     "output_type": "stream",
     "text": [
      "/home/mohammadreza/.local/lib/python3.8/site-packages/pytorch_lightning/trainer/data_loading.py:105: UserWarning: The dataloader, val dataloader 0, does not have many workers which may be a bottleneck. Consider increasing the value of the `num_workers` argument` (try 4 which is the number of cpus on this machine) in the `DataLoader` init to improve performance.\n",
      "  rank_zero_warn(\n",
      "/home/mohammadreza/.local/lib/python3.8/site-packages/pytorch_lightning/trainer/data_loading.py:105: UserWarning: The dataloader, train dataloader, does not have many workers which may be a bottleneck. Consider increasing the value of the `num_workers` argument` (try 4 which is the number of cpus on this machine) in the `DataLoader` init to improve performance.\n",
      "  rank_zero_warn(\n"
     ]
    },
    {
     "data": {
      "application/vnd.jupyter.widget-view+json": {
       "model_id": "3eb3693f524a4fa6b3f230e82dae3818",
       "version_major": 2,
       "version_minor": 0
      },
      "text/plain": [
       "Training: -1it [00:00, ?it/s]"
      ]
     },
     "metadata": {},
     "output_type": "display_data"
    },
    {
     "data": {
      "application/vnd.jupyter.widget-view+json": {
       "model_id": "",
       "version_major": 2,
       "version_minor": 0
      },
      "text/plain": [
       "Validating: 0it [00:00, ?it/s]"
      ]
     },
     "metadata": {},
     "output_type": "display_data"
    }
   ],
   "source": [
    "trainer.fit(model2, trainloader) #training"
   ]
  },
  {
   "cell_type": "code",
   "execution_count": 32,
   "id": "6bfed386",
   "metadata": {},
   "outputs": [
    {
     "name": "stderr",
     "output_type": "stream",
     "text": [
      "LOCAL_RANK: 0 - CUDA_VISIBLE_DEVICES: [0]\n"
     ]
    },
    {
     "data": {
      "application/vnd.jupyter.widget-view+json": {
       "model_id": "",
       "version_major": 2,
       "version_minor": 0
      },
      "text/plain": [
       "Validating: 0it [00:00, ?it/s]"
      ]
     },
     "metadata": {},
     "output_type": "display_data"
    },
    {
     "name": "stdout",
     "output_type": "stream",
     "text": [
      "--------------------------------------------------------------------------------\n",
      "DATALOADER:0 VALIDATE RESULTS\n",
      "{'val_loss': 0.25884974002838135}\n",
      "--------------------------------------------------------------------------------\n"
     ]
    },
    {
     "data": {
      "text/plain": [
       "[{'val_loss': 0.25884974002838135}]"
      ]
     },
     "execution_count": 32,
     "metadata": {},
     "output_type": "execute_result"
    }
   ],
   "source": [
    "# if you want to validate, you can also run validation\n",
    "\n",
    "trainer.validate(model2, testloader) #testing "
   ]
  },
  {
   "cell_type": "code",
   "execution_count": 33,
   "id": "725c506c",
   "metadata": {},
   "outputs": [
    {
     "name": "stderr",
     "output_type": "stream",
     "text": [
      "LOCAL_RANK: 0 - CUDA_VISIBLE_DEVICES: [0]\n"
     ]
    },
    {
     "data": {
      "application/vnd.jupyter.widget-view+json": {
       "model_id": "a7f88a83f8774c989b80deac9ca568ce",
       "version_major": 2,
       "version_minor": 0
      },
      "text/plain": [
       "Predicting: 235it [00:00, ?it/s]"
      ]
     },
     "metadata": {},
     "output_type": "display_data"
    }
   ],
   "source": [
    "p=trainer.predict(model2, testloader) #orediction on test data\n",
    "#trainer.predict(model2, trainloader) #orediction on train data"
   ]
  },
  {
   "cell_type": "markdown",
   "id": "82f5f263",
   "metadata": {},
   "source": [
    "### Tensorboard in PytorchLightning"
   ]
  },
  {
   "cell_type": "code",
   "execution_count": null,
   "id": "ff039713",
   "metadata": {},
   "outputs": [],
   "source": []
  }
 ],
 "metadata": {
  "kernelspec": {
   "display_name": "Python 3 (ipykernel)",
   "language": "python",
   "name": "python3"
  },
  "language_info": {
   "codemirror_mode": {
    "name": "ipython",
    "version": 3
   },
   "file_extension": ".py",
   "mimetype": "text/x-python",
   "name": "python",
   "nbconvert_exporter": "python",
   "pygments_lexer": "ipython3",
   "version": "3.8.5"
  }
 },
 "nbformat": 4,
 "nbformat_minor": 5
}
