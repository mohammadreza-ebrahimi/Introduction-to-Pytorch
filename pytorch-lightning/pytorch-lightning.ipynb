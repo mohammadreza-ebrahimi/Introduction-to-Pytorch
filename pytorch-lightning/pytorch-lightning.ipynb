{
 "cells": [
  {
   "cell_type": "code",
   "execution_count": 1,
   "id": "75fd4cb8",
   "metadata": {},
   "outputs": [],
   "source": [
    "import os\n",
    "import torch\n",
    "from torch import nn\n",
    "import torch.nn.functional as F\n",
    "from IPython.display import clear_output\n",
    "import matplotlib.pyplot as plt\n",
    "import numpy as np\n",
    "import tqdm\n",
    "from torch.utils.tensorboard import SummaryWriter"
   ]
  },
  {
   "cell_type": "code",
   "execution_count": 2,
   "id": "b2c85cc8",
   "metadata": {
    "scrolled": true
   },
   "outputs": [
    {
     "name": "stdout",
     "output_type": "stream",
     "text": [
      "Defaulting to user installation because normal site-packages is not writeable\n",
      "Requirement already satisfied: pytorch_lightning in /home/mohammadreza/.local/lib/python3.8/site-packages (1.4.2)\n",
      "Requirement already satisfied: numpy>=1.17.2 in /home/mohammadreza/.local/lib/python3.8/site-packages (from pytorch_lightning) (1.19.5)\n",
      "Requirement already satisfied: pyDeprecate==0.3.1 in /home/mohammadreza/.local/lib/python3.8/site-packages (from pytorch_lightning) (0.3.1)\n",
      "Requirement already satisfied: packaging>=17.0 in /home/mohammadreza/.local/lib/python3.8/site-packages (from pytorch_lightning) (21.0)\n",
      "Requirement already satisfied: typing-extensions in /home/mohammadreza/.local/lib/python3.8/site-packages (from pytorch_lightning) (3.7.4.3)\n",
      "Requirement already satisfied: tqdm>=4.41.0 in /home/mohammadreza/.local/lib/python3.8/site-packages (from pytorch_lightning) (4.62.0)\n",
      "Requirement already satisfied: torch>=1.6 in /home/mohammadreza/.local/lib/python3.8/site-packages (from pytorch_lightning) (1.9.0)\n",
      "Requirement already satisfied: tensorboard>=2.2.0 in /home/mohammadreza/.local/lib/python3.8/site-packages (from pytorch_lightning) (2.6.0)\n",
      "Requirement already satisfied: torchmetrics>=0.4.0 in /home/mohammadreza/.local/lib/python3.8/site-packages (from pytorch_lightning) (0.5.0)\n",
      "Requirement already satisfied: fsspec[http]!=2021.06.0,>=2021.05.0 in /home/mohammadreza/.local/lib/python3.8/site-packages (from pytorch_lightning) (2021.7.0)\n",
      "Requirement already satisfied: future>=0.17.1 in /usr/lib/python3/dist-packages (from pytorch_lightning) (0.18.2)\n",
      "Requirement already satisfied: PyYAML>=5.1 in /usr/lib/python3/dist-packages (from pytorch_lightning) (5.3.1)\n",
      "Requirement already satisfied: aiohttp in /home/mohammadreza/.local/lib/python3.8/site-packages (from fsspec[http]!=2021.06.0,>=2021.05.0->pytorch_lightning) (3.7.4.post0)\n",
      "Requirement already satisfied: requests in /usr/lib/python3/dist-packages (from fsspec[http]!=2021.06.0,>=2021.05.0->pytorch_lightning) (2.22.0)\n",
      "Requirement already satisfied: pyparsing>=2.0.2 in /home/mohammadreza/.local/lib/python3.8/site-packages (from packaging>=17.0->pytorch_lightning) (2.4.7)\n",
      "Requirement already satisfied: absl-py>=0.4 in /home/mohammadreza/.local/lib/python3.8/site-packages (from tensorboard>=2.2.0->pytorch_lightning) (0.13.0)\n",
      "Requirement already satisfied: google-auth-oauthlib<0.5,>=0.4.1 in /home/mohammadreza/.local/lib/python3.8/site-packages (from tensorboard>=2.2.0->pytorch_lightning) (0.4.5)\n",
      "Requirement already satisfied: protobuf>=3.6.0 in /home/mohammadreza/.local/lib/python3.8/site-packages (from tensorboard>=2.2.0->pytorch_lightning) (3.17.3)\n",
      "Requirement already satisfied: wheel>=0.26 in /home/mohammadreza/.local/lib/python3.8/site-packages (from tensorboard>=2.2.0->pytorch_lightning) (0.37.0)\n",
      "Requirement already satisfied: werkzeug>=0.11.15 in /home/mohammadreza/.local/lib/python3.8/site-packages (from tensorboard>=2.2.0->pytorch_lightning) (2.0.1)\n",
      "Requirement already satisfied: grpcio>=1.24.3 in /home/mohammadreza/.local/lib/python3.8/site-packages (from tensorboard>=2.2.0->pytorch_lightning) (1.34.1)\n",
      "Requirement already satisfied: tensorboard-plugin-wit>=1.6.0 in /home/mohammadreza/.local/lib/python3.8/site-packages (from tensorboard>=2.2.0->pytorch_lightning) (1.8.0)\n",
      "Requirement already satisfied: setuptools>=41.0.0 in /usr/lib/python3/dist-packages (from tensorboard>=2.2.0->pytorch_lightning) (45.2.0)\n",
      "Requirement already satisfied: markdown>=2.6.8 in /home/mohammadreza/.local/lib/python3.8/site-packages (from tensorboard>=2.2.0->pytorch_lightning) (3.3.4)\n",
      "Requirement already satisfied: google-auth<2,>=1.6.3 in /home/mohammadreza/.local/lib/python3.8/site-packages (from tensorboard>=2.2.0->pytorch_lightning) (1.34.0)\n",
      "Requirement already satisfied: tensorboard-data-server<0.7.0,>=0.6.0 in /home/mohammadreza/.local/lib/python3.8/site-packages (from tensorboard>=2.2.0->pytorch_lightning) (0.6.1)\n",
      "Requirement already satisfied: six in /home/mohammadreza/.local/lib/python3.8/site-packages (from absl-py>=0.4->tensorboard>=2.2.0->pytorch_lightning) (1.15.0)\n",
      "Requirement already satisfied: cachetools<5.0,>=2.0.0 in /home/mohammadreza/.local/lib/python3.8/site-packages (from google-auth<2,>=1.6.3->tensorboard>=2.2.0->pytorch_lightning) (4.2.2)\n",
      "Requirement already satisfied: pyasn1-modules>=0.2.1 in /home/mohammadreza/.local/lib/python3.8/site-packages (from google-auth<2,>=1.6.3->tensorboard>=2.2.0->pytorch_lightning) (0.2.8)\n",
      "Requirement already satisfied: rsa<5,>=3.1.4 in /home/mohammadreza/.local/lib/python3.8/site-packages (from google-auth<2,>=1.6.3->tensorboard>=2.2.0->pytorch_lightning) (4.7.2)\n",
      "Requirement already satisfied: requests-oauthlib>=0.7.0 in /home/mohammadreza/.local/lib/python3.8/site-packages (from google-auth-oauthlib<0.5,>=0.4.1->tensorboard>=2.2.0->pytorch_lightning) (1.3.0)\n",
      "Requirement already satisfied: pyasn1<0.5.0,>=0.4.6 in /home/mohammadreza/.local/lib/python3.8/site-packages (from pyasn1-modules>=0.2.1->google-auth<2,>=1.6.3->tensorboard>=2.2.0->pytorch_lightning) (0.4.8)\n",
      "Requirement already satisfied: oauthlib>=3.0.0 in /usr/lib/python3/dist-packages (from requests-oauthlib>=0.7.0->google-auth-oauthlib<0.5,>=0.4.1->tensorboard>=2.2.0->pytorch_lightning) (3.1.0)\n",
      "Requirement already satisfied: multidict<7.0,>=4.5 in /home/mohammadreza/.local/lib/python3.8/site-packages (from aiohttp->fsspec[http]!=2021.06.0,>=2021.05.0->pytorch_lightning) (5.1.0)\n",
      "Requirement already satisfied: yarl<2.0,>=1.0 in /home/mohammadreza/.local/lib/python3.8/site-packages (from aiohttp->fsspec[http]!=2021.06.0,>=2021.05.0->pytorch_lightning) (1.6.3)\n",
      "Requirement already satisfied: async-timeout<4.0,>=3.0 in /home/mohammadreza/.local/lib/python3.8/site-packages (from aiohttp->fsspec[http]!=2021.06.0,>=2021.05.0->pytorch_lightning) (3.0.1)\n",
      "Requirement already satisfied: chardet<5.0,>=2.0 in /usr/lib/python3/dist-packages (from aiohttp->fsspec[http]!=2021.06.0,>=2021.05.0->pytorch_lightning) (3.0.4)\n",
      "Requirement already satisfied: attrs>=17.3.0 in /home/mohammadreza/.local/lib/python3.8/site-packages (from aiohttp->fsspec[http]!=2021.06.0,>=2021.05.0->pytorch_lightning) (21.2.0)\n",
      "Requirement already satisfied: idna>=2.0 in /usr/lib/python3/dist-packages (from yarl<2.0,>=1.0->aiohttp->fsspec[http]!=2021.06.0,>=2021.05.0->pytorch_lightning) (2.8)\n"
     ]
    }
   ],
   "source": [
    "!pip install pytorch_lightning"
   ]
  },
  {
   "cell_type": "code",
   "execution_count": 3,
   "id": "e86a4e7b",
   "metadata": {
    "scrolled": true
   },
   "outputs": [
    {
     "name": "stdout",
     "output_type": "stream",
     "text": [
      "Defaulting to user installation because normal site-packages is not writeable\n",
      "Requirement already satisfied: comet_ml in /home/mohammadreza/.local/lib/python3.8/site-packages (3.14.0)\n",
      "Requirement already satisfied: requests-toolbelt>=0.8.0 in /home/mohammadreza/.local/lib/python3.8/site-packages (from comet_ml) (0.9.1)\n",
      "Requirement already satisfied: jsonschema!=3.1.0,>=2.6.0 in /home/mohammadreza/.local/lib/python3.8/site-packages (from comet_ml) (3.2.0)\n",
      "Requirement already satisfied: websocket-client>=0.55.0 in /home/mohammadreza/.local/lib/python3.8/site-packages (from comet_ml) (1.2.1)\n",
      "Requirement already satisfied: everett[ini]>=1.0.1 in /home/mohammadreza/.local/lib/python3.8/site-packages (from comet_ml) (2.0.0)\n",
      "Requirement already satisfied: wrapt>=1.11.2 in /home/mohammadreza/.local/lib/python3.8/site-packages (from comet_ml) (1.12.1)\n",
      "Requirement already satisfied: dulwich>=0.20.6 in /home/mohammadreza/.local/lib/python3.8/site-packages (from comet_ml) (0.20.24)\n",
      "Requirement already satisfied: wurlitzer>=1.0.2 in /home/mohammadreza/.local/lib/python3.8/site-packages (from comet_ml) (2.1.1)\n",
      "Requirement already satisfied: semantic-version>=2.8.0 in /home/mohammadreza/.local/lib/python3.8/site-packages (from comet_ml) (2.8.5)\n",
      "Requirement already satisfied: six in /home/mohammadreza/.local/lib/python3.8/site-packages (from comet_ml) (1.15.0)\n",
      "Requirement already satisfied: requests>=2.18.4 in /usr/lib/python3/dist-packages (from comet_ml) (2.22.0)\n",
      "Requirement already satisfied: nvidia-ml-py3>=7.352.0 in /home/mohammadreza/.local/lib/python3.8/site-packages (from comet_ml) (7.352.0)\n",
      "Requirement already satisfied: urllib3>=1.24.1 in /usr/lib/python3/dist-packages (from dulwich>=0.20.6->comet_ml) (1.25.8)\n",
      "Requirement already satisfied: certifi in /usr/lib/python3/dist-packages (from dulwich>=0.20.6->comet_ml) (2019.11.28)\n",
      "Requirement already satisfied: configobj in /home/mohammadreza/.local/lib/python3.8/site-packages (from everett[ini]>=1.0.1->comet_ml) (5.0.6)\n",
      "Requirement already satisfied: setuptools in /usr/lib/python3/dist-packages (from jsonschema!=3.1.0,>=2.6.0->comet_ml) (45.2.0)\n",
      "Requirement already satisfied: pyrsistent>=0.14.0 in /home/mohammadreza/.local/lib/python3.8/site-packages (from jsonschema!=3.1.0,>=2.6.0->comet_ml) (0.18.0)\n",
      "Requirement already satisfied: attrs>=17.4.0 in /home/mohammadreza/.local/lib/python3.8/site-packages (from jsonschema!=3.1.0,>=2.6.0->comet_ml) (21.2.0)\n"
     ]
    }
   ],
   "source": [
    "!pip install comet_ml"
   ]
  },
  {
   "cell_type": "code",
   "execution_count": 4,
   "id": "f6ab0ecc",
   "metadata": {},
   "outputs": [],
   "source": [
    "import pytorch_lightning as pl\n",
    "import comet_ml"
   ]
  },
  {
   "cell_type": "code",
   "execution_count": 5,
   "id": "fc05da1b",
   "metadata": {},
   "outputs": [
    {
     "name": "stdout",
     "output_type": "stream",
     "text": [
      "NVIDIA GeForce 940MX\n"
     ]
    }
   ],
   "source": [
    "gpu = print(torch.cuda.get_device_name() if torch.cuda.is_available else 'cpu')"
   ]
  },
  {
   "cell_type": "code",
   "execution_count": 15,
   "id": "91fa82af",
   "metadata": {},
   "outputs": [
    {
     "name": "stdout",
     "output_type": "stream",
     "text": [
      "NUmber of available GPU(s): 1\n"
     ]
    }
   ],
   "source": [
    "num_gpu = torch.cuda.device_count()\n",
    "print('NUmber of available GPU(s):', num_gpu)"
   ]
  },
  {
   "cell_type": "code",
   "execution_count": 7,
   "id": "d3a8b580",
   "metadata": {},
   "outputs": [
    {
     "name": "stdout",
     "output_type": "stream",
     "text": [
      "cuda\n"
     ]
    }
   ],
   "source": [
    "device = print('cuda' if torch.cuda.is_available() else 'cpu')"
   ]
  },
  {
   "cell_type": "code",
   "execution_count": 8,
   "id": "c4bda7f4",
   "metadata": {},
   "outputs": [],
   "source": [
    "from torchvision import datasets\n",
    "import torchvision.transforms as transforms\n",
    "\n",
    "transform=transforms.Compose([\n",
    "        transforms.ToTensor(),\n",
    "        transforms.Normalize((0.5), (0.5)),\n",
    "])"
   ]
  },
  {
   "cell_type": "code",
   "execution_count": 11,
   "id": "f175db0e",
   "metadata": {},
   "outputs": [],
   "source": [
    "ds_train = datasets.MNIST('/home/mohammadreza/share/data', train=True, download=False, transform=transform)\n",
    "ds_test = datasets.MNIST('~/share/data', train=False, download=False, transform=transform)"
   ]
  },
  {
   "cell_type": "code",
   "execution_count": 12,
   "id": "5be0eb46",
   "metadata": {},
   "outputs": [
    {
     "name": "stdout",
     "output_type": "stream",
     "text": [
      "Mon Aug 16 09:17:00 2021       \r\n",
      "+-----------------------------------------------------------------------------+\r\n",
      "| NVIDIA-SMI 470.57.02    Driver Version: 470.57.02    CUDA Version: 11.4     |\r\n",
      "|-------------------------------+----------------------+----------------------+\r\n",
      "| GPU  Name        Persistence-M| Bus-Id        Disp.A | Volatile Uncorr. ECC |\r\n",
      "| Fan  Temp  Perf  Pwr:Usage/Cap|         Memory-Usage | GPU-Util  Compute M. |\r\n",
      "|                               |                      |               MIG M. |\r\n",
      "|===============================+======================+======================|\r\n",
      "|   0  NVIDIA GeForce ...  On   | 00000000:01:00.0 Off |                  N/A |\r\n",
      "| N/A   47C    P0    N/A /  N/A |    377MiB /  4046MiB |      4%      Default |\r\n",
      "|                               |                      |                  N/A |\r\n",
      "+-------------------------------+----------------------+----------------------+\r\n",
      "                                                                               \r\n",
      "+-----------------------------------------------------------------------------+\r\n",
      "| Processes:                                                                  |\r\n",
      "|  GPU   GI   CI        PID   Type   Process name                  GPU Memory |\r\n",
      "|        ID   ID                                                   Usage      |\r\n",
      "|=============================================================================|\r\n",
      "|    0   N/A  N/A      1074      G   /usr/lib/xorg/Xorg                 37MiB |\r\n",
      "|    0   N/A  N/A      1636      G   /usr/lib/xorg/Xorg                113MiB |\r\n",
      "|    0   N/A  N/A      1814      G   /usr/bin/gnome-shell               48MiB |\r\n",
      "|    0   N/A  N/A      2721      G   ...AAAAAAAAA= --shared-files       13MiB |\r\n",
      "|    0   N/A  N/A      6055      G   /usr/lib/firefox/firefox          150MiB |\r\n",
      "+-----------------------------------------------------------------------------+\r\n"
     ]
    }
   ],
   "source": [
    "!nvidia-smi"
   ]
  },
  {
   "cell_type": "code",
   "execution_count": 13,
   "id": "faa2e6c8",
   "metadata": {},
   "outputs": [
    {
     "name": "stdout",
     "output_type": "stream",
     "text": [
      "nvcc: NVIDIA (R) Cuda compiler driver\r\n",
      "Copyright (c) 2005-2019 NVIDIA Corporation\r\n",
      "Built on Sun_Jul_28_19:07:16_PDT_2019\r\n",
      "Cuda compilation tools, release 10.1, V10.1.243\r\n"
     ]
    }
   ],
   "source": [
    "!nvcc -V"
   ]
  },
  {
   "cell_type": "code",
   "execution_count": 16,
   "id": "81061eaf",
   "metadata": {},
   "outputs": [
    {
     "name": "stdout",
     "output_type": "stream",
     "text": [
      "Number of alailable GPU:  1\n"
     ]
    }
   ],
   "source": [
    "BATCH_SIZE = 256 if num_gpu else 64\n",
    "print('Number of alailable GPU: ', num_gpu)"
   ]
  },
  {
   "cell_type": "code",
   "execution_count": 17,
   "id": "467d0640",
   "metadata": {},
   "outputs": [],
   "source": [
    "trainloader = torch.utils.data.DataLoader(ds_train, num_workers=2,\n",
    "                                         batch_size=BATCH_SIZE, shuffle=True)\n",
    "testloader = torch.utils.data.DataLoader(ds_test, batch_size=1000,\n",
    "                                        shuffle=False, num_workers=2)"
   ]
  },
  {
   "cell_type": "code",
   "execution_count": null,
   "id": "aa766087",
   "metadata": {},
   "outputs": [],
   "source": [
    "# defining the model with nn.Module\n",
    "class MNISTModel(pl.LightningModule): # special calss allows you\n",
    "    #to define many more components that are available to be trained at neural network\n",
    "    def __init__(self, n=100):\n",
    "        super(MNISTModel, self).__init__()\n",
    "        self.l1 = nn.Linear(28 * 28, n)\n",
    "        self.l2 = nn.Linear(n, 10)\n",
    "        \n",
    "    def forward(self, x):\n",
    "        y_hat = self.l2(F.relu(self.l1(x.flatten(1))))\n",
    "        \n",
    "        return y_hat\n",
    "    \n",
    "    def training_step(self, batch, batch_nb):\n",
    "        x, y = batch\n",
    "        loss = F.cross_entropy(self(x), y)\n",
    "        self.log('train_loss', loss, open_epoch=True, logger=True)\n",
    "        # The \"self.log\" method, use internal pytorch.lightning. since this\n",
    "        # is for logging intermediate values\n",
    "            "
   ]
  }
 ],
 "metadata": {
  "kernelspec": {
   "display_name": "Python 3 (ipykernel)",
   "language": "python",
   "name": "python3"
  },
  "language_info": {
   "codemirror_mode": {
    "name": "ipython",
    "version": 3
   },
   "file_extension": ".py",
   "mimetype": "text/x-python",
   "name": "python",
   "nbconvert_exporter": "python",
   "pygments_lexer": "ipython3",
   "version": "3.8.10"
  }
 },
 "nbformat": 4,
 "nbformat_minor": 5
}
