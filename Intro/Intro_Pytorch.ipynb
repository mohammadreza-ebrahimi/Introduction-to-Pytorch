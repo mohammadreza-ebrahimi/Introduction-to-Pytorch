{
  "nbformat": 4,
  "nbformat_minor": 0,
  "metadata": {
    "colab": {
      "name": "Intro-Pytorch",
      "provenance": [],
      "collapsed_sections": []
    },
    "kernelspec": {
      "name": "python3",
      "display_name": "Python 3"
    },
    "language_info": {
      "name": "python"
    },
    "accelerator": "GPU"
  },
  "cells": [
    {
      "cell_type": "markdown",
      "metadata": {
        "id": "e7-oplDHwx5V"
      },
      "source": [
        "# **Intro to Pytorch and Tensorboard** "
      ]
    },
    {
      "cell_type": "code",
      "metadata": {
        "id": "jlRUxfN4wdwy"
      },
      "source": [
        "import torch\n",
        "from torch import nn\n",
        "import torch.nn.functional as F\n",
        "import numpy as np\n",
        "from IPython.display import clear_output\n",
        "import matplotlib.pyplot as plt\n",
        "import tqdm\n",
        "from torch.utils.tensorboard import SummaryWriter\n",
        "\n",
        "%matplotlib inline"
      ],
      "execution_count": null,
      "outputs": []
    },
    {
      "cell_type": "markdown",
      "metadata": {
        "id": "SndSdr_kxkbD"
      },
      "source": [
        "\n",
        "## Data load\n",
        "\n",
        "All dataset classes are subclasses of [`torch.util.data.Dataset`](https://pytorch.org/docs/stable/data.html#torch.utils.data.Dataset) have `__getitem__` and `__len__` methods implemented. Thus, it can be passed to a [`torch.utils.data.DataLoader`](https://pytorch.org/docs/stable/data.html#torch.utils.data.DataLoader), which can load multiple samples parallelly.\n",
        "Popular Dataset subclasses:\n",
        "\n",
        "- [MNIST](https://pytorch.org/docs/stable/torchvision/datasets.html#mnist)\n",
        "- [Fashion-MNIST](https://pytorch.org/docs/stable/torchvision/datasets.html#fashion-mnist)\n",
        "- [CIFAR](https://pytorch.org/docs/stable/torchvision/datasets.html#cifar)\n",
        "- [CelebA](https://pytorch.org/docs/stable/torchvision/datasets.html#celeba)\n",
        "\n",
        "`MNIST` constructor signature: `torchvision.datasets.MNIST(root, train=True, transform=None, target_transform=None, download=False)`, where `transform` - function/transform that takes in an PIL (Height x Width x Channels) image and returns a transformed version. \n",
        "\n",
        "**Several transformations can be combined together. Popular transformations**:\n",
        "- `torchvision.transforms.Normalize(mean, std, inplace=False)`\n",
        "- `torchvision.transforms.ToTensor()` - Converts a PIL Image or `numpy.ndarray` (H x W x C) in the range `[0, 255]` to a `torch.FloatTensor` of shape (C x H x W) in the range `[0.0, 1.0]` \n",
        "\n",
        "\n",
        "DataLoader constructor signature\n",
        "`torch.utils.data.DataLoader(dataset, batch_size=1, shuffle=False, sampler=None, batch_sampler=None, num_workers=0, collate_fn=None, pin_memory=False, drop_last=False, timeout=0, worker_init_fn=None, multiprocessing_context=None)`, where\n",
        "- dataset is DataSet instance\n",
        "- batch_size - number of items sampled at every iteration\n",
        "- num_workers - number of simultaneous reading processes (**NB** on Windows you might want to set it to `0`)\n",
        "\n",
        "DataLoaders provide convenient interface for training loops: \n",
        "\n",
        "```python\n",
        "    for epoch in range(num_epochs):\n",
        "        for i, data in enumerate(trainloader, 0):\n",
        "            # get the inputs; data is a list of [inputs, labels]\n",
        "            inputs, labels = data\n",
        "            ...\n",
        "            \n",
        "```\n",
        "or \n",
        "```python\n",
        "    batch_X, batch_y = iter(trainloader).next()\n",
        "```"
      ]
    },
    {
      "cell_type": "code",
      "metadata": {
        "colab": {
          "base_uri": "https://localhost:8080/"
        },
        "id": "1Q4tJf4Bwwhf",
        "outputId": "bde969da-c62e-4541-8879-ccde56cd79be"
      },
      "source": [
        "from torchvision import datasets\n",
        "import torchvision.transforms as transforms\n",
        "\n",
        "transform = transforms.Compose([\n",
        "                                transforms.ToTensor(),\n",
        "                                transforms.Normalize((0.5,), (0.5,)) # normalize around 0.5 with std 0.5\n",
        "]) # Transforms data to tensor. ('numpy array' or 'PIL image' --> Tensor)\n",
        "\n",
        "ds_train = datasets.MNIST(\"~/share/data/\", train=True, download=True, transform=transform)\n",
        "ds_test = datasets.MNIST(\"~/share/data/\", train=False, download=True, transform=transform)"
      ],
      "execution_count": null,
      "outputs": [
        {
          "output_type": "stream",
          "text": [
            "/usr/local/lib/python3.7/dist-packages/torchvision/datasets/mnist.py:498: UserWarning: The given NumPy array is not writeable, and PyTorch does not support non-writeable tensors. This means you can write to the underlying (supposedly non-writeable) NumPy array using the tensor. You may want to copy the array to protect its data or make it writeable before converting it to a tensor. This type of warning will be suppressed for the rest of this program. (Triggered internally at  /pytorch/torch/csrc/utils/tensor_numpy.cpp:180.)\n",
            "  return torch.from_numpy(parsed.astype(m[2], copy=False)).view(*s)\n"
          ],
          "name": "stderr"
        }
      ]
    },
    {
      "cell_type": "code",
      "metadata": {
        "id": "wOsyVGtczlY6"
      },
      "source": [
        "#dataloader: Allows you wrap an iterable around the Dataset instance, to enable \n",
        "# easy access to the sample. here we have 512 batch per an iteration.\n",
        "# briefly, it take sample form our Dataset, here is MNIST\n",
        "train_loader = torch.utils.data.DataLoader(ds_train, batch_size=512,\n",
        "                                           shuffle=True, num_workers=2)\n",
        "# batch_size = number of objects per iteration\n",
        "\n",
        "test_loader = torch.utils.data.DataLoader(ds_test, batch_size=1000, \n",
        "                                          shuffle=False, num_workers=2)"
      ],
      "execution_count": null,
      "outputs": []
    },
    {
      "cell_type": "code",
      "metadata": {
        "colab": {
          "base_uri": "https://localhost:8080/"
        },
        "id": "BylGwAzt1bD0",
        "outputId": "c8ed7cc9-cd6b-4e99-9460-439ea255348f"
      },
      "source": [
        "print('Train:', ds_train, \"\\nTest:\", ds_test)"
      ],
      "execution_count": null,
      "outputs": [
        {
          "output_type": "stream",
          "text": [
            "Train: Dataset MNIST\n",
            "    Number of datapoints: 60000\n",
            "    Root location: /root/share/data/\n",
            "    Split: Train\n",
            "    StandardTransform\n",
            "Transform: Compose(\n",
            "               ToTensor()\n",
            "               Normalize(mean=(0.5,), std=(0.5,))\n",
            "           ) \n",
            "Test: Dataset MNIST\n",
            "    Number of datapoints: 10000\n",
            "    Root location: /root/share/data/\n",
            "    Split: Test\n",
            "    StandardTransform\n",
            "Transform: Compose(\n",
            "               ToTensor()\n",
            "               Normalize(mean=(0.5,), std=(0.5,))\n",
            "           )\n"
          ],
          "name": "stdout"
        }
      ]
    },
    {
      "cell_type": "code",
      "metadata": {
        "colab": {
          "base_uri": "https://localhost:8080/"
        },
        "id": "OJI1MIhw3Hp6",
        "outputId": "138800d6-8fd0-46f7-9c57-ffb3684edec9"
      },
      "source": [
        "type(train_loader)"
      ],
      "execution_count": null,
      "outputs": [
        {
          "output_type": "execute_result",
          "data": {
            "text/plain": [
              "torch.utils.data.dataloader.DataLoader"
            ]
          },
          "metadata": {
            "tags": []
          },
          "execution_count": 5
        }
      ]
    },
    {
      "cell_type": "markdown",
      "metadata": {
        "id": "f_Kk_zP9KvOz"
      },
      "source": [
        "**Get sample out of the train loader**  \n",
        "it gives you couple of data ---→ ***X_batch*** & ***y_batch***"
      ]
    },
    {
      "cell_type": "code",
      "metadata": {
        "colab": {
          "base_uri": "https://localhost:8080/"
        },
        "id": "USOTOeEc1vMp",
        "outputId": "e335e25c-c255-42fd-8f57-d83d777f49d4"
      },
      "source": [
        "X_batch, y_batch = iter(train_loader).next() # The next() function returns the \n",
        "# next item in an iterator. 1 iteration = 512 sample\n",
        "\n",
        "print('batch size:', len(X_batch), \"batch_dimension\", X_batch.shape)"
      ],
      "execution_count": null,
      "outputs": [
        {
          "output_type": "stream",
          "text": [
            "batch size: 512 batch_dimension torch.Size([512, 1, 28, 28])\n"
          ],
          "name": "stdout"
        }
      ]
    },
    {
      "cell_type": "markdown",
      "metadata": {
        "id": "GhD5KBhsLa2C"
      },
      "source": [
        "The output is torch tensor"
      ]
    },
    {
      "cell_type": "code",
      "metadata": {
        "colab": {
          "base_uri": "https://localhost:8080/"
        },
        "id": "isMJ7oH32x8N",
        "outputId": "8ff945b0-e705-4546-b6db-f2926edf64eb"
      },
      "source": [
        "type(X_batch), type(ds_train)"
      ],
      "execution_count": null,
      "outputs": [
        {
          "output_type": "execute_result",
          "data": {
            "text/plain": [
              "(torch.Tensor, torchvision.datasets.mnist.MNIST)"
            ]
          },
          "metadata": {
            "tags": []
          },
          "execution_count": 7
        }
      ]
    },
    {
      "cell_type": "code",
      "metadata": {
        "colab": {
          "base_uri": "https://localhost:8080/",
          "height": 339
        },
        "id": "Zl07tj0760Wf",
        "outputId": "97e0459e-8143-498d-aedd-73aaa1739763"
      },
      "source": [
        "plt.figure(figsize=(4, 4), dpi=100)\n",
        "plt.axis('off')\n",
        "\n",
        "plt.imshow(\n",
        "    torch.transpose(\n",
        "        torch.cat(\n",
        "            [X_batch[y_batch == c][:10] for c in range(10)], axis=0\n",
        "        ).reshape(10, 10, 28, 28),\n",
        "        1, 2\n",
        "    ).reshape(280, 280)\n",
        ")\n",
        "plt.show()"
      ],
      "execution_count": null,
      "outputs": [
        {
          "output_type": "display_data",
          "data": {
            "image/png": "[encoded data removed]",
            "text/plain": [
              "<Figure size 400x400 with 1 Axes>"
            ]
          },
          "metadata": {
            "tags": [],
            "needs_background": "light"
          }
        }
      ]
    },
    {
      "cell_type": "markdown",
      "metadata": {
        "id": "l2pwwCkC87al"
      },
      "source": [
        "## Automatic differentiation\n",
        "Automatic differentiaion is the main mechanism for the backpropagation in PyTorch. PyTorch provides a module, `autograd`, for automatically calculating the gradients of tensors. We can use it to calculate the gradients of all our parameters with respect to the loss. Autograd works by keeping track of operations performed on tensors, then going backwards through those operations, calculating gradients along the way. To make sure PyTorch keeps track of operations on a tensor and calculates the gradients, you need to set `requires_grad = True` on a tensor. You can do this at creation with the `requires_grad` keyword, or at any time with `x.requires_grad_(True)`.\n",
        "\n",
        "You can turn off gradients for a block of code with the `torch.no_grad()` context:\n",
        "\n",
        "```\n",
        "x = torch.zeros(1, requires_grad=True)\n",
        ">>> with torch.no_grad():\n",
        "...     y = x * 2\n",
        ">>> y.requires_grad\n",
        "False\n",
        "```\n",
        "Also, you can turn on or off gradients altogether with `torch.set_grad_enabled(True|False)`.\n",
        "\n",
        "The gradients are computed with respect to some variable `z` with `z.backward()`. This does a backward pass through the operations that created `z`."
      ]
    },
    {
      "cell_type": "code",
      "metadata": {
        "colab": {
          "base_uri": "https://localhost:8080/"
        },
        "id": "6644vg8-7Nin",
        "outputId": "805a5f03-e566-4a4e-ea9c-566c6d909c46"
      },
      "source": [
        "x = torch.randn(2, 2, requires_grad=True) # 2*2 matrix, initialized with random number\n",
        "print(x)"
      ],
      "execution_count": null,
      "outputs": [
        {
          "output_type": "stream",
          "text": [
            "tensor([[-0.4913,  0.1405],\n",
            "        [-0.6595,  0.6947]], requires_grad=True)\n"
          ],
          "name": "stdout"
        }
      ]
    },
    {
      "cell_type": "code",
      "metadata": {
        "colab": {
          "base_uri": "https://localhost:8080/"
        },
        "id": "ZgpTlyfQ9i9R",
        "outputId": "9f725340-751c-4442-87bd-78209daa7091"
      },
      "source": [
        "# operation on x  \n",
        "y = x ** 2\n",
        "y1 = torch.sqrt(x) * torch.sin(2 * x)\n",
        "print(y, y1)"
      ],
      "execution_count": null,
      "outputs": [
        {
          "output_type": "stream",
          "text": [
            "tensor([[0.2414, 0.0197],\n",
            "        [0.4349, 0.4827]], grad_fn=<PowBackward0>) tensor([[   nan, 0.1039],\n",
            "        [   nan, 0.8198]], grad_fn=<MulBackward0>)\n"
          ],
          "name": "stdout"
        }
      ]
    },
    {
      "cell_type": "markdown",
      "metadata": {
        "id": "IyhQv8HY91M-"
      },
      "source": [
        "Below we can see the operation that created `y`, a power operation `PowBackward0`."
      ]
    },
    {
      "cell_type": "code",
      "metadata": {
        "colab": {
          "base_uri": "https://localhost:8080/"
        },
        "id": "IdCRMJHS9vEF",
        "outputId": "0684e32e-621f-4869-fd3e-2f477b29bcac"
      },
      "source": [
        "## grad_fn shows the function that generated this variable y\n",
        "print('Operation on x in y1 is : ', y1.grad_fn)\n",
        "print('---'*10)\n",
        "print('Operation on x in y is : ', y.grad_fn)"
      ],
      "execution_count": null,
      "outputs": [
        {
          "output_type": "stream",
          "text": [
            "Operation on x in y1 is :  <MulBackward0 object at 0x7fc8246f9c10>\n",
            "------------------------------\n",
            "Operation on x in y is :  <PowBackward0 object at 0x7fc8246f9c10>\n"
          ],
          "name": "stdout"
        }
      ]
    },
    {
      "cell_type": "markdown",
      "metadata": {
        "id": "Z1DDZb5j-1CS"
      },
      "source": [
        "Till now, `autograd` has kept track of the operators on x, which is `<PowBackward0`. Pytorch would not compute the gradient unless you use `backward()` function."
      ]
    },
    {
      "cell_type": "code",
      "metadata": {
        "colab": {
          "base_uri": "https://localhost:8080/"
        },
        "id": "OcU8c0eG-q-l",
        "outputId": "2daf2209-2b58-4296-9114-f44d51e6b0b0"
      },
      "source": [
        "print(x.grad)"
      ],
      "execution_count": null,
      "outputs": [
        {
          "output_type": "stream",
          "text": [
            "None\n"
          ],
          "name": "stdout"
        }
      ]
    },
    {
      "cell_type": "markdown",
      "metadata": {
        "id": "g47HctUQ_2rx"
      },
      "source": [
        "Sine we have not computed any gradient of y with respect to x"
      ]
    },
    {
      "cell_type": "code",
      "metadata": {
        "id": "E6f7P6h8_xA6"
      },
      "source": [
        "#y.backward()"
      ],
      "execution_count": null,
      "outputs": []
    },
    {
      "cell_type": "markdown",
      "metadata": {
        "id": "mx6rw2whAUqJ"
      },
      "source": [
        "The autograd module keeps track of these operations and knows how to calculate the gradient for each one. In this way, it's able to calculate the gradients for a chain of operations, with respect to any one tensor. In order to get rid of this error, Let's reduce the tensor `y` to a scalar value, the mean."
      ]
    },
    {
      "cell_type": "markdown",
      "metadata": {
        "id": "_0u6vGQSKSw1"
      },
      "source": [
        "To calculate the gradients, you need to run the `.backward` method on a variable `z`, for example. This will calculate the gradient for `z` with respect to `x`\n",
        "\n",
        "$$\\frac{\\partial z}{\\partial x}=\\frac{\\partial}{\\partial x}\\left[\\frac{1}{n} \\sum_{i}^{n} x_{i}^{2}\\right]=\\frac{x}{2}$$\n"
      ]
    },
    {
      "cell_type": "code",
      "metadata": {
        "colab": {
          "base_uri": "https://localhost:8080/"
        },
        "id": "MRjaRNJzAABu",
        "outputId": "4f3e4f45-8f50-4129-d2d8-dd903bd58897"
      },
      "source": [
        "z = y.mean() # sum(1/4 (x ** 2))\n",
        "print('z = ', z, '\\n','---'*15)\n",
        "z.backward() #1/4 ( d/dx x ** 2)\n",
        "print(x.grad)\n",
        "print('---'*15, '\\nx/2 =', x/2)"
      ],
      "execution_count": null,
      "outputs": [
        {
          "output_type": "stream",
          "text": [
            "z =  tensor(0.2322, grad_fn=<MeanBackward0>) \n",
            " ---------------------------------------------\n",
            "tensor([[ 0.3159, -0.2230],\n",
            "        [-0.2757, -0.0817]])\n",
            "--------------------------------------------- \n",
            "x/2 = tensor([[ 0.3159, -0.2230],\n",
            "        [-0.2757, -0.0817]], grad_fn=<DivBackward0>)\n"
          ],
          "name": "stdout"
        }
      ]
    },
    {
      "cell_type": "code",
      "metadata": {
        "colab": {
          "base_uri": "https://localhost:8080/"
        },
        "id": "CGsEoU0zA2ua",
        "outputId": "58a40150-f9a4-4fe8-e2bc-f09b9fa01e6e"
      },
      "source": [
        "print(x)"
      ],
      "execution_count": null,
      "outputs": [
        {
          "output_type": "stream",
          "text": [
            "tensor([[ 0.6318, -0.4460],\n",
            "        [-0.5514, -0.1633]], requires_grad=True)\n"
          ],
          "name": "stdout"
        }
      ]
    },
    {
      "cell_type": "code",
      "metadata": {
        "colab": {
          "base_uri": "https://localhost:8080/"
        },
        "id": "iHNUBammD7s6",
        "outputId": "64364203-a010-4add-9668-ea40c64b1a80"
      },
      "source": [
        "print(y)"
      ],
      "execution_count": null,
      "outputs": [
        {
          "output_type": "stream",
          "text": [
            "tensor([[0.3992, 0.1990],\n",
            "        [0.3040, 0.0267]], grad_fn=<PowBackward0>)\n"
          ],
          "name": "stdout"
        }
      ]
    },
    {
      "cell_type": "code",
      "metadata": {
        "colab": {
          "base_uri": "https://localhost:8080/"
        },
        "id": "qbfLB6pvEdEq",
        "outputId": "157c35cd-3dab-4009-c7b2-bf8044c8cb05"
      },
      "source": [
        "0.9129/4 + 0.149/4 + 0.9854/4 + 0.0194/4"
      ],
      "execution_count": null,
      "outputs": [
        {
          "output_type": "execute_result",
          "data": {
            "text/plain": [
              "0.516675"
            ]
          },
          "metadata": {
            "tags": []
          },
          "execution_count": 17
        }
      ]
    },
    {
      "cell_type": "markdown",
      "metadata": {
        "id": "AVNdf_wJLny8"
      },
      "source": [
        "***\n",
        "\n",
        "Deep learning requires rapid calculation. Fortunately, Pytorch supports GPU acceleration. First, you have to check if your graphic card supports CUDA. for install and more details see [here](https://developer.nvidia.com/cuda-downloads).  \n",
        "Below, we define a function to choose a cuda randomly. "
      ]
    },
    {
      "cell_type": "code",
      "metadata": {
        "id": "vx3Nn6yYEuTY"
      },
      "source": [
        "def get_random_gpu():\n",
        "    return np.random.randint(4)\n",
        "\n",
        "def get_free_gpu():\n",
        "    from pynvml import nvmlInit, nvmlDeviceGetHandleByIndex, nvmlDeviceGetMemoryInfo, nvmlDeviceGetCount\n",
        "    nvmlInit()\n",
        "\n",
        "    return np.argmax([\n",
        "        nvmlDeviceGetMemoryInfo(nvmlDeviceGetHandleByIndex(i)).free\n",
        "        for i in range(nvmlDeviceGetCount())\n",
        "    ])"
      ],
      "execution_count": null,
      "outputs": []
    },
    {
      "cell_type": "code",
      "metadata": {
        "colab": {
          "base_uri": "https://localhost:8080/"
        },
        "id": "_P0iFQy4E0_D",
        "outputId": "96b1464a-6e88-437d-9165-0ad9354c45e1"
      },
      "source": [
        "if torch.cuda.is_available():\n",
        "    cuda_id = get_random_gpu()\n",
        "    if cuda_id == 0:\n",
        "      device = f'cuda:{cuda_id}'\n",
        "      print(f'Selected {device}')\n",
        "    else:\n",
        "      device = 'cpu'\n",
        "      print('WARNING: using cpu!')"
      ],
      "execution_count": null,
      "outputs": [
        {
          "output_type": "stream",
          "text": [
            "Selected cuda:0\n"
          ],
          "name": "stdout"
        }
      ]
    },
    {
      "cell_type": "markdown",
      "metadata": {
        "id": "E31bI3n0Nb-k"
      },
      "source": [
        "**From now, we send our models and data to selected device** `cuda:0`"
      ]
    },
    {
      "cell_type": "code",
      "metadata": {
        "colab": {
          "base_uri": "https://localhost:8080/"
        },
        "id": "XdRnYnwyE8UM",
        "outputId": "4299c4d9-7b4e-4d49-dbad-18f59e9f5e08"
      },
      "source": [
        "# create a network that stacks layers on top of each other\n",
        "model = nn.Sequential(\n",
        "    nn.Linear(784, 100), # add first \"dense\" layer with 784 input\n",
        "                         # units and 100 output units (hidden layer\n",
        "                         # with 100 neurons).\n",
        "    nn.ReLU(),\n",
        "    nn.Linear(100, 10), # \"dense\" layer with 10 output\n",
        "                        # units (for 10 classes).\n",
        ").to(device)\n",
        "\n",
        "print(\"Weight shapes:\")\n",
        "for w in model.parameters():\n",
        "    print(\"  \", w.shape)"
      ],
      "execution_count": null,
      "outputs": [
        {
          "output_type": "stream",
          "text": [
            "Weight shapes:\n",
            "   torch.Size([100, 784])\n",
            "   torch.Size([100])\n",
            "   torch.Size([10, 100])\n",
            "   torch.Size([10])\n"
          ],
          "name": "stdout"
        }
      ]
    },
    {
      "cell_type": "code",
      "metadata": {
        "colab": {
          "base_uri": "https://localhost:8080/"
        },
        "id": "71hq2FxrHKxt",
        "outputId": "937ca5ee-fe59-4a69-93dd-04b70b884d0a"
      },
      "source": [
        "for i in range(3):\n",
        "  print(model[i])"
      ],
      "execution_count": null,
      "outputs": [
        {
          "output_type": "stream",
          "text": [
            "Linear(in_features=784, out_features=100, bias=True)\n",
            "ReLU()\n",
            "Linear(in_features=100, out_features=10, bias=True)\n"
          ],
          "name": "stdout"
        }
      ]
    },
    {
      "cell_type": "code",
      "metadata": {
        "id": "syDvfkOgF8yL"
      },
      "source": [
        "def flatten_trailing(batch):\n",
        "    flat = batch.flatten(1)\n",
        "    #raise NotImplementedError()\n",
        "    return flat"
      ],
      "execution_count": null,
      "outputs": []
    },
    {
      "cell_type": "code",
      "metadata": {
        "id": "likX9y1cGDI2"
      },
      "source": [
        "loss_fn = nn.CrossEntropyLoss()\n",
        "predictions = model(flatten_trailing(X_batch.to(device)))"
      ],
      "execution_count": null,
      "outputs": []
    },
    {
      "cell_type": "code",
      "metadata": {
        "id": "Ms0tMJdaGgDb"
      },
      "source": [
        "loss = loss_fn(predictions, y_batch.to(device))"
      ],
      "execution_count": null,
      "outputs": []
    },
    {
      "cell_type": "code",
      "metadata": {
        "colab": {
          "base_uri": "https://localhost:8080/"
        },
        "id": "tiyLT5TDGkhH",
        "outputId": "9b5a25dc-259f-4436-f28f-1a2d320281a7"
      },
      "source": [
        "print('Before backward pass: \\n', model[2].weight.grad)\n",
        "\n",
        "loss.backward()\n",
        "\n",
        "print('After backward pass: \\n', model[2].weight.grad[0])"
      ],
      "execution_count": null,
      "outputs": [
        {
          "output_type": "stream",
          "text": [
            "Before backward pass: \n",
            " None\n",
            "After backward pass: \n",
            " tensor([-6.3680e-03, -1.9705e-03,  1.4050e-03, -3.3918e-03,  1.7998e-04,\n",
            "        -4.1973e-02,  8.9014e-05, -2.7315e-02, -4.6593e-02,  5.9690e-03,\n",
            "        -2.6606e-02, -2.0973e-02, -2.3990e-02,  1.6760e-03,  1.0001e-04,\n",
            "        -5.8374e-03, -1.4111e-02,  2.8898e-03, -1.1797e-02,  8.1957e-03,\n",
            "        -9.9710e-04, -2.1816e-02, -6.6525e-03, -5.4018e-05,  0.0000e+00,\n",
            "        -1.8075e-02, -5.9198e-03,  9.7557e-03, -5.4382e-03, -3.6904e-04,\n",
            "        -2.9422e-02, -6.2472e-04, -8.1010e-03,  1.6433e-02, -3.3899e-02,\n",
            "        -1.2805e-03,  4.5390e-03, -4.8500e-03,  6.8717e-05, -4.2016e-04,\n",
            "        -1.0558e-02, -4.3627e-03, -5.1530e-02, -7.4628e-04, -1.7011e-02,\n",
            "        -2.1447e-02, -1.3101e-02,  9.7406e-03, -9.5003e-04,  4.7691e-03,\n",
            "         1.0657e-03, -5.9096e-04, -1.7108e-02, -6.0391e-03, -1.2619e-04,\n",
            "        -2.2045e-03,  0.0000e+00, -2.5277e-03, -9.2616e-03, -2.2316e-02,\n",
            "        -3.7480e-02, -1.4597e-02, -9.6944e-03, -1.8840e-03, -2.1652e-02,\n",
            "        -3.2480e-02,  2.4564e-03, -4.2805e-02,  1.2143e-03, -2.8431e-03,\n",
            "        -1.9275e-03, -2.1011e-02, -2.1845e-02,  4.9677e-03, -9.9400e-03,\n",
            "        -1.1751e-02, -8.4090e-03, -4.6740e-02,  5.4446e-03, -2.3229e-03,\n",
            "        -2.2267e-02, -3.5400e-04, -2.5904e-02, -5.0684e-03,  9.6700e-03,\n",
            "         2.1024e-03,  1.7385e-02,  1.3205e-02, -3.2326e-03,  6.7380e-04,\n",
            "        -2.3109e-04, -2.4068e-02,  0.0000e+00, -2.0134e-03, -1.5606e-02,\n",
            "         7.6255e-03, -4.6003e-03,  2.7936e-04,  5.4107e-04,  0.0000e+00],\n",
            "       device='cuda:0')\n"
          ],
          "name": "stdout"
        }
      ]
    },
    {
      "cell_type": "code",
      "metadata": {
        "colab": {
          "base_uri": "https://localhost:8080/"
        },
        "id": "nVVJTKe10zYk",
        "outputId": "30d930dd-45a1-45e1-935d-0e34a232ed7c"
      },
      "source": [
        " values = [\"a\", \"b\", \"c\"]\n",
        " \n",
        "for count, value in enumerate(values):\n",
        "  print(count, value)"
      ],
      "execution_count": null,
      "outputs": [
        {
          "output_type": "stream",
          "text": [
            "0 a\n",
            "1 b\n",
            "2 c\n"
          ],
          "name": "stdout"
        }
      ]
    },
    {
      "cell_type": "code",
      "metadata": {
        "id": "KA7pu1l0Itq4"
      },
      "source": [
        "def train(model, num_epochs=1, batch_size=512, loss_fn=loss_fn, device='cpu'):\n",
        "    # some quantities to plot\n",
        "    train_losses = []\n",
        "    test_losses = []\n",
        "    test_accuracy = []\n",
        "    model_dev = model.to(device)\n",
        "\n",
        "    opt = torch.optim.Adam(model.parameters(), lr=1e-3)\n",
        "\n",
        "    for i_epoch in range(num_epochs):\n",
        "        t = tqdm.tqdm(iter(train_loader), leave=False, total=len(train_loader))\n",
        "        for idx, data in enumerate(t):\n",
        "            # get the next chunk (batch) of data:\n",
        "            # Sending data to 'device' with 'map'\n",
        "            batch_X, batch_y = map(lambda x: x.to(device), data)\n",
        "\n",
        "            # all the black magic:\n",
        "            loss = loss_fn(model(flatten_trailing(batch_X)), batch_y)\n",
        "            loss.backward()\n",
        "            opt.step()\n",
        "            opt.zero_grad()\n",
        "\n",
        "            # remember the loss value at this step\n",
        "            train_losses.append(loss.item())\n",
        "\n",
        "        # evaluate test loss and metrics\n",
        "        test_X, test_y = map(lambda x: x.to(device), iter(test_loader).next())\n",
        "\n",
        "        test_prediction = model(flatten_trailing(test_X.to(device)))\n",
        "        test_losses.append(\n",
        "            loss_fn(test_prediction, test_y).item()\n",
        "        )\n",
        "        test_accuracy.append(\n",
        "            (test_prediction.argmax(axis=1) == test_y).to(float).mean()\n",
        "        )\n",
        "        # all the rest is simply plotting\n",
        "\n",
        "        clear_output(wait=True)\n",
        "        print('Accuracy: ', max(test_accuracy))\n",
        "        plt.figure(figsize=(8, 3), dpi=100)\n",
        "        plt.subplot(1, 2, 1)\n",
        "        plt.plot(train_losses, label='train')\n",
        "        plt.plot(\n",
        "            np.linspace(0, len(train_losses), len(test_losses) + 1)[1:],\n",
        "            test_losses, label='test'\n",
        "        )\n",
        "        plt.ylabel(\"Loss\")\n",
        "        plt.xlabel(\"# steps\")\n",
        "        plt.legend();\n",
        "\n",
        "        plt.subplot(1, 2, 2)\n",
        "        plt.plot(test_accuracy, \"o-\")\n",
        "        plt.ylabel(\"Test accuracy\")\n",
        "        plt.xlabel(\"# epochs\");\n",
        "        plt.show()\n",
        "    return train_losses, test_losses, test_accuracy\n"
      ],
      "execution_count": null,
      "outputs": []
    },
    {
      "cell_type": "code",
      "metadata": {
        "colab": {
          "base_uri": "https://localhost:8080/",
          "height": 323
        },
        "id": "IVaiNRkgJxfH",
        "outputId": "0c67318f-c0f6-4949-b495-5a753093986f"
      },
      "source": [
        "train(model, device=device, num_epochs=10);"
      ],
      "execution_count": null,
      "outputs": [
        {
          "output_type": "stream",
          "text": [
            "Accuracy:  tensor(0.9510, device='cuda:0', dtype=torch.float64)\n"
          ],
          "name": "stdout"
        },
        {
          "output_type": "display_data",
          "data": {
            "image/png": "[encoded data removed]",
            "text/plain": [
              "<Figure size 800x300 with 2 Axes>"
            ]
          },
          "metadata": {
            "tags": [],
            "needs_background": "light"
          }
        }
      ]
    },
    {
      "cell_type": "markdown",
      "metadata": {
        "id": "rVZpa2FsN1DE"
      },
      "source": [
        "### Alternative way to define neuralnetwork configuration is **nn.Module**"
      ]
    },
    {
      "cell_type": "code",
      "metadata": {
        "id": "2v-_KfwyC5W6"
      },
      "source": [
        "# Alternate method to define the same model as previous one\n",
        "class Net(nn.Module):\n",
        "  def __init__(self): # constructor : defining all objects and methods \n",
        "    super(Net, self).__init__() # In order to have access to parants methods and objects\n",
        "    self.fc1 = nn.Linear(784, 100)\n",
        "    self.fc2 = nn.Linear(100, 10)\n",
        "\n",
        "  def forward(self, X):\n",
        "    Xf = X.flatten(1) # adding flatten here\n",
        "    X1 = F.relu(self.fc1(Xf))  # first dense layer\n",
        "    return self.fc2(X1) # second layer without activator "
      ],
      "execution_count": null,
      "outputs": []
    },
    {
      "cell_type": "code",
      "metadata": {
        "id": "77bPQiee16Bq"
      },
      "source": [
        "model2 = Net().to(device)"
      ],
      "execution_count": null,
      "outputs": []
    },
    {
      "cell_type": "code",
      "metadata": {
        "id": "vqwUbFbG2AZ5",
        "colab": {
          "base_uri": "https://localhost:8080/",
          "height": 1000
        },
        "outputId": "724155c1-a8f8-4e0b-8480-67fc3bb848f2"
      },
      "source": [
        "train(model2, num_epochs=10, device=device)"
      ],
      "execution_count": null,
      "outputs": [
        {
          "output_type": "stream",
          "text": [
            "Accuracy:  tensor(0.9580, device='cuda:0', dtype=torch.float64)\n"
          ],
          "name": "stdout"
        },
        {
          "output_type": "display_data",
          "data": {
            "image/png": "[encoded data removed]",
            "text/plain": [
              "<Figure size 800x300 with 2 Axes>"
            ]
          },
          "metadata": {
            "tags": [],
            "needs_background": "light"
          }
        },
        {
          "output_type": "execute_result",
          "data": {
            "text/plain": [
              "([2.3186111450195312,\n",
              "  2.217726707458496,\n",
              "  2.115267276763916,\n",
              "  2.030550003051758,\n",
              "  1.957112193107605,\n",
              "  1.8348571062088013,\n",
              "  1.775519609451294,\n",
              "  1.7048650979995728,\n",
              "  1.6188308000564575,\n",
              "  1.5690014362335205,\n",
              "  1.4702731370925903,\n",
              "  1.4113413095474243,\n",
              "  1.361313819885254,\n",
              "  1.3494281768798828,\n",
              "  1.2267522811889648,\n",
              "  1.1665301322937012,\n",
              "  1.1163465976715088,\n",
              "  1.026975154876709,\n",
              "  1.0209367275238037,\n",
              "  0.9964813590049744,\n",
              "  0.973408579826355,\n",
              "  0.9267103672027588,\n",
              "  0.8795767426490784,\n",
              "  0.8768445253372192,\n",
              "  0.8440489768981934,\n",
              "  0.7981890439987183,\n",
              "  0.8301227688789368,\n",
              "  0.7681600451469421,\n",
              "  0.667988121509552,\n",
              "  0.6937323212623596,\n",
              "  0.6438055038452148,\n",
              "  0.6891697645187378,\n",
              "  0.679044783115387,\n",
              "  0.66297447681427,\n",
              "  0.6668066382408142,\n",
              "  0.594716489315033,\n",
              "  0.624765932559967,\n",
              "  0.581596851348877,\n",
              "  0.5692036747932434,\n",
              "  0.5605942606925964,\n",
              "  0.5642858743667603,\n",
              "  0.6108459830284119,\n",
              "  0.5585296154022217,\n",
              "  0.5598519444465637,\n",
              "  0.5368680953979492,\n",
              "  0.5948436856269836,\n",
              "  0.6091662645339966,\n",
              "  0.46538299322128296,\n",
              "  0.4780198335647583,\n",
              "  0.5369715094566345,\n",
              "  0.5821189284324646,\n",
              "  0.478473424911499,\n",
              "  0.43132680654525757,\n",
              "  0.4929792881011963,\n",
              "  0.4350639581680298,\n",
              "  0.5417281985282898,\n",
              "  0.5384963750839233,\n",
              "  0.4626709222793579,\n",
              "  0.4055078625679016,\n",
              "  0.5188242197036743,\n",
              "  0.4975365698337555,\n",
              "  0.45848649740219116,\n",
              "  0.44474783539772034,\n",
              "  0.4006296396255493,\n",
              "  0.488206684589386,\n",
              "  0.476967453956604,\n",
              "  0.45953550934791565,\n",
              "  0.47906050086021423,\n",
              "  0.46315455436706543,\n",
              "  0.47811242938041687,\n",
              "  0.44484877586364746,\n",
              "  0.39049461483955383,\n",
              "  0.41481006145477295,\n",
              "  0.45889249444007874,\n",
              "  0.40352144837379456,\n",
              "  0.4446221590042114,\n",
              "  0.40375158190727234,\n",
              "  0.42099493741989136,\n",
              "  0.48870691657066345,\n",
              "  0.4595920443534851,\n",
              "  0.3880650997161865,\n",
              "  0.4136728048324585,\n",
              "  0.35589298605918884,\n",
              "  0.37540847063064575,\n",
              "  0.365638792514801,\n",
              "  0.3894197344779968,\n",
              "  0.4252011477947235,\n",
              "  0.3784565329551697,\n",
              "  0.397787868976593,\n",
              "  0.4172821640968323,\n",
              "  0.3648461103439331,\n",
              "  0.3746429681777954,\n",
              "  0.4449026882648468,\n",
              "  0.38445210456848145,\n",
              "  0.3669898211956024,\n",
              "  0.4118839204311371,\n",
              "  0.40992698073387146,\n",
              "  0.39409908652305603,\n",
              "  0.37514448165893555,\n",
              "  0.418976753950119,\n",
              "  0.402676522731781,\n",
              "  0.3329651355743408,\n",
              "  0.3724365532398224,\n",
              "  0.3602358400821686,\n",
              "  0.4503989517688751,\n",
              "  0.3749566674232483,\n",
              "  0.389782190322876,\n",
              "  0.37227335572242737,\n",
              "  0.3746793866157532,\n",
              "  0.3997112512588501,\n",
              "  0.32168424129486084,\n",
              "  0.3402802348136902,\n",
              "  0.4481338858604431,\n",
              "  0.35150548815727234,\n",
              "  0.40317749977111816,\n",
              "  0.37867146730422974,\n",
              "  0.3366803824901581,\n",
              "  0.31020477414131165,\n",
              "  0.39050790667533875,\n",
              "  0.34548449516296387,\n",
              "  0.35390523076057434,\n",
              "  0.3811395466327667,\n",
              "  0.3287576735019684,\n",
              "  0.3476245403289795,\n",
              "  0.3618161976337433,\n",
              "  0.3489101231098175,\n",
              "  0.40038514137268066,\n",
              "  0.3094714879989624,\n",
              "  0.33270910382270813,\n",
              "  0.349001944065094,\n",
              "  0.292834609746933,\n",
              "  0.3064919710159302,\n",
              "  0.3715418875217438,\n",
              "  0.33825477957725525,\n",
              "  0.288786917924881,\n",
              "  0.3825189769268036,\n",
              "  0.3579687476158142,\n",
              "  0.35628703236579895,\n",
              "  0.41859009861946106,\n",
              "  0.35661429166793823,\n",
              "  0.37513813376426697,\n",
              "  0.35568904876708984,\n",
              "  0.3208463191986084,\n",
              "  0.2994430363178253,\n",
              "  0.3307749927043915,\n",
              "  0.3421434462070465,\n",
              "  0.34133225679397583,\n",
              "  0.3730011284351349,\n",
              "  0.2960115075111389,\n",
              "  0.32777073979377747,\n",
              "  0.2698315680027008,\n",
              "  0.29868391156196594,\n",
              "  0.39284878969192505,\n",
              "  0.3180558681488037,\n",
              "  0.32283487915992737,\n",
              "  0.33282920718193054,\n",
              "  0.3026376962661743,\n",
              "  0.42002072930336,\n",
              "  0.3942250609397888,\n",
              "  0.2931700348854065,\n",
              "  0.27160078287124634,\n",
              "  0.3668983578681946,\n",
              "  0.29017964005470276,\n",
              "  0.3846677541732788,\n",
              "  0.30033302307128906,\n",
              "  0.2827962338924408,\n",
              "  0.4191286563873291,\n",
              "  0.3103652894496918,\n",
              "  0.3291994035243988,\n",
              "  0.3168482184410095,\n",
              "  0.3011818528175354,\n",
              "  0.34789523482322693,\n",
              "  0.386104941368103,\n",
              "  0.3152247965335846,\n",
              "  0.35553455352783203,\n",
              "  0.3306933045387268,\n",
              "  0.275971382856369,\n",
              "  0.3243682086467743,\n",
              "  0.28669625520706177,\n",
              "  0.31749019026756287,\n",
              "  0.2955232858657837,\n",
              "  0.3512188196182251,\n",
              "  0.2873682975769043,\n",
              "  0.27231502532958984,\n",
              "  0.3182322382926941,\n",
              "  0.27277445793151855,\n",
              "  0.32606810331344604,\n",
              "  0.287392258644104,\n",
              "  0.3173067271709442,\n",
              "  0.3375919759273529,\n",
              "  0.3894619941711426,\n",
              "  0.3727864623069763,\n",
              "  0.2604323923587799,\n",
              "  0.35072994232177734,\n",
              "  0.3016534447669983,\n",
              "  0.3363707363605499,\n",
              "  0.3430090546607971,\n",
              "  0.29230695962905884,\n",
              "  0.3112605810165405,\n",
              "  0.3603411018848419,\n",
              "  0.332970529794693,\n",
              "  0.2756521999835968,\n",
              "  0.26597803831100464,\n",
              "  0.2773372232913971,\n",
              "  0.22830940783023834,\n",
              "  0.27410751581192017,\n",
              "  0.31343570351600647,\n",
              "  0.23125281929969788,\n",
              "  0.3400629162788391,\n",
              "  0.3207060694694519,\n",
              "  0.3124723732471466,\n",
              "  0.2467176467180252,\n",
              "  0.2684013247489929,\n",
              "  0.2797430455684662,\n",
              "  0.3472633957862854,\n",
              "  0.33653607964515686,\n",
              "  0.3008773624897003,\n",
              "  0.2819540202617645,\n",
              "  0.2817682921886444,\n",
              "  0.3539411425590515,\n",
              "  0.2803221046924591,\n",
              "  0.3256046772003174,\n",
              "  0.27212733030319214,\n",
              "  0.27687162160873413,\n",
              "  0.2715122699737549,\n",
              "  0.25526177883148193,\n",
              "  0.32122737169265747,\n",
              "  0.2984093725681305,\n",
              "  0.3411991000175476,\n",
              "  0.31020230054855347,\n",
              "  0.27314046025276184,\n",
              "  0.2800160050392151,\n",
              "  0.2633667290210724,\n",
              "  0.32271823287010193,\n",
              "  0.28671786189079285,\n",
              "  0.25704094767570496,\n",
              "  0.27730464935302734,\n",
              "  0.2899983823299408,\n",
              "  0.28550973534584045,\n",
              "  0.26797059178352356,\n",
              "  0.2600798010826111,\n",
              "  0.2698094844818115,\n",
              "  0.33578264713287354,\n",
              "  0.19903433322906494,\n",
              "  0.2675877809524536,\n",
              "  0.24683073163032532,\n",
              "  0.29370298981666565,\n",
              "  0.30950984358787537,\n",
              "  0.2705806791782379,\n",
              "  0.25075334310531616,\n",
              "  0.2964843213558197,\n",
              "  0.25528502464294434,\n",
              "  0.2997976243495941,\n",
              "  0.3270542621612549,\n",
              "  0.22517316043376923,\n",
              "  0.3226759731769562,\n",
              "  0.225843146443367,\n",
              "  0.25550833344459534,\n",
              "  0.309510737657547,\n",
              "  0.2566491663455963,\n",
              "  0.2699723243713379,\n",
              "  0.2609826922416687,\n",
              "  0.3229036033153534,\n",
              "  0.2360517382621765,\n",
              "  0.3234361708164215,\n",
              "  0.24445484578609467,\n",
              "  0.28874433040618896,\n",
              "  0.2952635884284973,\n",
              "  0.28916752338409424,\n",
              "  0.28061679005622864,\n",
              "  0.26652848720550537,\n",
              "  0.2806625962257385,\n",
              "  0.3611598014831543,\n",
              "  0.19913148880004883,\n",
              "  0.2617592215538025,\n",
              "  0.24699681997299194,\n",
              "  0.23540642857551575,\n",
              "  0.244122713804245,\n",
              "  0.2390749603509903,\n",
              "  0.26512300968170166,\n",
              "  0.33411848545074463,\n",
              "  0.2227388471364975,\n",
              "  0.29353222250938416,\n",
              "  0.28927308320999146,\n",
              "  0.26489201188087463,\n",
              "  0.24129536747932434,\n",
              "  0.3009537160396576,\n",
              "  0.268974632024765,\n",
              "  0.2263946831226349,\n",
              "  0.28073012828826904,\n",
              "  0.32686808705329895,\n",
              "  0.3009159564971924,\n",
              "  0.2657247483730316,\n",
              "  0.2662924826145172,\n",
              "  0.27266085147857666,\n",
              "  0.2594620883464813,\n",
              "  0.2661895155906677,\n",
              "  0.3222544491291046,\n",
              "  0.2598523795604706,\n",
              "  0.2928914725780487,\n",
              "  0.2466268539428711,\n",
              "  0.25541412830352783,\n",
              "  0.2695121765136719,\n",
              "  0.27735617756843567,\n",
              "  0.25778457522392273,\n",
              "  0.24918803572654724,\n",
              "  0.22991213202476501,\n",
              "  0.30039992928504944,\n",
              "  0.19011574983596802,\n",
              "  0.27942660450935364,\n",
              "  0.2522001266479492,\n",
              "  0.2857348620891571,\n",
              "  0.25016024708747864,\n",
              "  0.23470687866210938,\n",
              "  0.2511640787124634,\n",
              "  0.2525613605976105,\n",
              "  0.307846337556839,\n",
              "  0.2668518126010895,\n",
              "  0.28332602977752686,\n",
              "  0.28701451420783997,\n",
              "  0.2671295702457428,\n",
              "  0.32895493507385254,\n",
              "  0.3130865693092346,\n",
              "  0.31140273809432983,\n",
              "  0.2344135344028473,\n",
              "  0.23166942596435547,\n",
              "  0.25503039360046387,\n",
              "  0.24365898966789246,\n",
              "  0.2871248424053192,\n",
              "  0.25385788083076477,\n",
              "  0.23073838651180267,\n",
              "  0.24285943806171417,\n",
              "  0.29231876134872437,\n",
              "  0.3257768452167511,\n",
              "  0.2752241790294647,\n",
              "  0.2985113263130188,\n",
              "  0.2554759085178375,\n",
              "  0.23561951518058777,\n",
              "  0.3159117102622986,\n",
              "  0.2518940269947052,\n",
              "  0.24828988313674927,\n",
              "  0.2442803978919983,\n",
              "  0.33718881011009216,\n",
              "  0.26731565594673157,\n",
              "  0.22563807666301727,\n",
              "  0.21415920555591583,\n",
              "  0.31179913878440857,\n",
              "  0.24330894649028778,\n",
              "  0.27845528721809387,\n",
              "  0.22736132144927979,\n",
              "  0.23552672564983368,\n",
              "  0.2400594800710678,\n",
              "  0.251675009727478,\n",
              "  0.23248831927776337,\n",
              "  0.2072657346725464,\n",
              "  0.2263111025094986,\n",
              "  0.22121866047382355,\n",
              "  0.3364148736000061,\n",
              "  0.2216508984565735,\n",
              "  0.2779373526573181,\n",
              "  0.24720512330532074,\n",
              "  0.24106764793395996,\n",
              "  0.21702751517295837,\n",
              "  0.2707594931125641,\n",
              "  0.18218015134334564,\n",
              "  0.28514254093170166,\n",
              "  0.2905313968658447,\n",
              "  0.23567357659339905,\n",
              "  0.22689951956272125,\n",
              "  0.2348591536283493,\n",
              "  0.2456815242767334,\n",
              "  0.24491967260837555,\n",
              "  0.2290390580892563,\n",
              "  0.2676520049571991,\n",
              "  0.25202518701553345,\n",
              "  0.2242688536643982,\n",
              "  0.24825674295425415,\n",
              "  0.22387975454330444,\n",
              "  0.2243775576353073,\n",
              "  0.2141512632369995,\n",
              "  0.26558613777160645,\n",
              "  0.2763668894767761,\n",
              "  0.18817733228206635,\n",
              "  0.30049192905426025,\n",
              "  0.2515650987625122,\n",
              "  0.23471805453300476,\n",
              "  0.20747601985931396,\n",
              "  0.20586711168289185,\n",
              "  0.18926769495010376,\n",
              "  0.2297237664461136,\n",
              "  0.22186309099197388,\n",
              "  0.2624586224555969,\n",
              "  0.19739198684692383,\n",
              "  0.2547920048236847,\n",
              "  0.19106177985668182,\n",
              "  0.24025903642177582,\n",
              "  0.21489647030830383,\n",
              "  0.2435580939054489,\n",
              "  0.24674423038959503,\n",
              "  0.2314365953207016,\n",
              "  0.22609306871891022,\n",
              "  0.2993111312389374,\n",
              "  0.24428315460681915,\n",
              "  0.21095305681228638,\n",
              "  0.26676425337791443,\n",
              "  0.18430858850479126,\n",
              "  0.25657057762145996,\n",
              "  0.21542975306510925,\n",
              "  0.3005031645298004,\n",
              "  0.1810082048177719,\n",
              "  0.20513255894184113,\n",
              "  0.3325793147087097,\n",
              "  0.21567802131175995,\n",
              "  0.19221803545951843,\n",
              "  0.3539164662361145,\n",
              "  0.19860127568244934,\n",
              "  0.2525138258934021,\n",
              "  0.22960332036018372,\n",
              "  0.20628413558006287,\n",
              "  0.2668760120868683,\n",
              "  0.2576921880245209,\n",
              "  0.2745005190372467,\n",
              "  0.23717255890369415,\n",
              "  0.22509026527404785,\n",
              "  0.23600399494171143,\n",
              "  0.26318782567977905,\n",
              "  0.2993212938308716,\n",
              "  0.19601765275001526,\n",
              "  0.2625977396965027,\n",
              "  0.21193821728229523,\n",
              "  0.25491732358932495,\n",
              "  0.19427703320980072,\n",
              "  0.1953013837337494,\n",
              "  0.20551204681396484,\n",
              "  0.19767796993255615,\n",
              "  0.23866425454616547,\n",
              "  0.23503245413303375,\n",
              "  0.2579728364944458,\n",
              "  0.2573612928390503,\n",
              "  0.21410104632377625,\n",
              "  0.2858206033706665,\n",
              "  0.26970651745796204,\n",
              "  0.2180461436510086,\n",
              "  0.1794242560863495,\n",
              "  0.20208175480365753,\n",
              "  0.2500767707824707,\n",
              "  0.2367149442434311,\n",
              "  0.200361967086792,\n",
              "  0.21688756346702576,\n",
              "  0.25316086411476135,\n",
              "  0.2242894470691681,\n",
              "  0.2590716481208801,\n",
              "  0.17908693850040436,\n",
              "  0.19884401559829712,\n",
              "  0.25840502977371216,\n",
              "  0.21492259204387665,\n",
              "  0.21568307280540466,\n",
              "  0.2400362342596054,\n",
              "  0.19422593712806702,\n",
              "  0.20147602260112762,\n",
              "  0.21375595033168793,\n",
              "  0.21493972837924957,\n",
              "  0.24308672547340393,\n",
              "  0.20773489773273468,\n",
              "  0.21148434281349182,\n",
              "  0.2160927951335907,\n",
              "  0.1966654509305954,\n",
              "  0.18924015760421753,\n",
              "  0.19013629853725433,\n",
              "  0.2192542403936386,\n",
              "  0.22399546205997467,\n",
              "  0.30799898505210876,\n",
              "  0.23078878223896027,\n",
              "  0.19863103330135345,\n",
              "  0.1847202330827713,\n",
              "  0.22962398827075958,\n",
              "  0.23618823289871216,\n",
              "  0.2250949740409851,\n",
              "  0.210510715842247,\n",
              "  0.22917437553405762,\n",
              "  0.31089678406715393,\n",
              "  0.21026834845542908,\n",
              "  0.17672817409038544,\n",
              "  0.1851368397474289,\n",
              "  0.2078777253627777,\n",
              "  0.20632418990135193,\n",
              "  0.24768176674842834,\n",
              "  0.24732466042041779,\n",
              "  0.1693280190229416,\n",
              "  0.17386524379253387,\n",
              "  0.202768474817276,\n",
              "  0.1834353655576706,\n",
              "  0.29728826880455017,\n",
              "  0.22650080919265747,\n",
              "  0.2508488595485687,\n",
              "  0.1925797462463379,\n",
              "  0.18187646567821503,\n",
              "  0.17815417051315308,\n",
              "  0.17927436530590057,\n",
              "  0.20231391489505768,\n",
              "  0.25712716579437256,\n",
              "  0.2102968841791153,\n",
              "  0.1874534785747528,\n",
              "  0.17559631168842316,\n",
              "  0.2308296412229538,\n",
              "  0.18810272216796875,\n",
              "  0.26438504457473755,\n",
              "  0.20587900280952454,\n",
              "  0.18029414117336273,\n",
              "  0.24023564159870148,\n",
              "  0.2185802012681961,\n",
              "  0.1759648323059082,\n",
              "  0.20746847987174988,\n",
              "  0.24488811194896698,\n",
              "  0.19735020399093628,\n",
              "  0.1996588408946991,\n",
              "  0.18040518462657928,\n",
              "  0.15779036283493042,\n",
              "  0.218794047832489,\n",
              "  0.23972822725772858,\n",
              "  0.19669674336910248,\n",
              "  0.16047416627407074,\n",
              "  0.21915693581104279,\n",
              "  0.2509620487689972,\n",
              "  0.19299526512622833,\n",
              "  0.18285825848579407,\n",
              "  0.18152281641960144,\n",
              "  0.21143803000450134,\n",
              "  0.14605480432510376,\n",
              "  0.22507299482822418,\n",
              "  0.24430443346500397,\n",
              "  0.19133684039115906,\n",
              "  0.22148804366588593,\n",
              "  0.21811820566654205,\n",
              "  0.22519250214099884,\n",
              "  0.283695250749588,\n",
              "  0.17851622402668,\n",
              "  0.22789770364761353,\n",
              "  0.19217412173748016,\n",
              "  0.14820332825183868,\n",
              "  0.21036384999752045,\n",
              "  0.20770646631717682,\n",
              "  0.208915576338768,\n",
              "  0.1601320058107376,\n",
              "  0.16188892722129822,\n",
              "  0.16353590786457062,\n",
              "  0.20367911458015442,\n",
              "  0.19734154641628265,\n",
              "  0.17169176042079926,\n",
              "  0.13887563347816467,\n",
              "  0.20368152856826782,\n",
              "  0.18649055063724518,\n",
              "  0.2054162174463272,\n",
              "  0.22652122378349304,\n",
              "  0.21187826991081238,\n",
              "  0.16952060163021088,\n",
              "  0.15830732882022858,\n",
              "  0.1852467656135559,\n",
              "  0.21038970351219177,\n",
              "  0.1851719319820404,\n",
              "  0.1748642921447754,\n",
              "  0.2162373811006546,\n",
              "  0.27929434180259705,\n",
              "  0.18746870756149292,\n",
              "  0.20786668360233307,\n",
              "  0.256001353263855,\n",
              "  0.24606847763061523,\n",
              "  0.17774270474910736,\n",
              "  0.15039944648742676,\n",
              "  0.2106795608997345,\n",
              "  0.2510146498680115,\n",
              "  0.19973613321781158,\n",
              "  0.15956471860408783,\n",
              "  0.12957589328289032,\n",
              "  0.22409489750862122,\n",
              "  0.22583451867103577,\n",
              "  0.206431046128273,\n",
              "  0.18787801265716553,\n",
              "  0.17070971429347992,\n",
              "  0.18740558624267578,\n",
              "  0.1547745168209076,\n",
              "  0.19133630394935608,\n",
              "  0.20447415113449097,\n",
              "  0.1839905083179474,\n",
              "  0.1590065360069275,\n",
              "  0.18403193354606628,\n",
              "  0.22042319178581238,\n",
              "  0.17530979216098785,\n",
              "  0.19896376132965088,\n",
              "  0.11944109946489334,\n",
              "  0.14230100810527802,\n",
              "  0.21038898825645447,\n",
              "  0.1917710155248642,\n",
              "  0.15069308876991272,\n",
              "  0.15481817722320557,\n",
              "  0.19075267016887665,\n",
              "  0.19365663826465607,\n",
              "  0.16000019013881683,\n",
              "  0.13867272436618805,\n",
              "  0.17197531461715698,\n",
              "  0.21082553267478943,\n",
              "  0.2157604992389679,\n",
              "  0.1287834644317627,\n",
              "  0.1703457534313202,\n",
              "  0.1710997223854065,\n",
              "  0.19901245832443237,\n",
              "  0.21983830630779266,\n",
              "  0.1821284145116806,\n",
              "  0.2533148229122162,\n",
              "  0.1937076449394226,\n",
              "  0.16423052549362183,\n",
              "  0.1857086420059204,\n",
              "  0.18952882289886475,\n",
              "  0.1568441241979599,\n",
              "  0.15006311237812042,\n",
              "  0.2152465134859085,\n",
              "  0.1900120973587036,\n",
              "  0.2264372706413269,\n",
              "  0.14929333329200745,\n",
              "  0.17125090956687927,\n",
              "  0.17343521118164062,\n",
              "  0.174095019698143,\n",
              "  0.18542613089084625,\n",
              "  0.18299095332622528,\n",
              "  0.1474851369857788,\n",
              "  0.16871501505374908,\n",
              "  0.16581358015537262,\n",
              "  0.20511110126972198,\n",
              "  0.1998785138130188,\n",
              "  0.2443414032459259,\n",
              "  0.20248550176620483,\n",
              "  0.1749550700187683,\n",
              "  0.19891653954982758,\n",
              "  0.19848981499671936,\n",
              "  0.17124521732330322,\n",
              "  0.17709897458553314,\n",
              "  0.15335698425769806,\n",
              "  0.21015635132789612,\n",
              "  0.15562787652015686,\n",
              "  0.17797259986400604,\n",
              "  0.16946400701999664,\n",
              "  0.15915930271148682,\n",
              "  0.191734179854393,\n",
              "  0.19107063114643097,\n",
              "  0.163869246840477,\n",
              "  0.1725279837846756,\n",
              "  0.16512630879878998,\n",
              "  0.20564690232276917,\n",
              "  0.20587870478630066,\n",
              "  0.17378923296928406,\n",
              "  0.16023050248622894,\n",
              "  0.21329371631145477,\n",
              "  0.169296994805336,\n",
              "  0.18127304315567017,\n",
              "  0.16719017922878265,\n",
              "  0.16062608361244202,\n",
              "  0.17991553246974945,\n",
              "  0.17956556379795074,\n",
              "  0.15411688387393951,\n",
              "  0.17928753793239594,\n",
              "  0.2158288210630417,\n",
              "  0.19845180213451385,\n",
              "  0.16705936193466187,\n",
              "  0.16414645314216614,\n",
              "  0.179913729429245,\n",
              "  0.2058490663766861,\n",
              "  0.18945223093032837,\n",
              "  0.19128507375717163,\n",
              "  0.1740962713956833,\n",
              "  0.15467263758182526,\n",
              "  0.18867449462413788,\n",
              "  0.16069354116916656,\n",
              "  0.19988694787025452,\n",
              "  0.1674662083387375,\n",
              "  0.1949518918991089,\n",
              "  0.15036755800247192,\n",
              "  0.15825949609279633,\n",
              "  0.124574676156044,\n",
              "  0.15217769145965576,\n",
              "  0.15242895483970642,\n",
              "  0.16355730593204498,\n",
              "  0.18949225544929504,\n",
              "  0.21788591146469116,\n",
              "  0.2276948243379593,\n",
              "  0.18234935402870178,\n",
              "  0.14345866441726685,\n",
              "  0.14048171043395996,\n",
              "  0.146672323346138,\n",
              "  0.17275522649288177,\n",
              "  0.14991895854473114,\n",
              "  0.12189290672540665,\n",
              "  0.13370895385742188,\n",
              "  0.1816248595714569,\n",
              "  0.20356206595897675,\n",
              "  0.1509019434452057,\n",
              "  0.1434846669435501,\n",
              "  0.13103336095809937,\n",
              "  0.15344421565532684,\n",
              "  0.13295316696166992,\n",
              "  0.1972929686307907,\n",
              "  0.2054910957813263,\n",
              "  0.19693122804164886,\n",
              "  0.18602943420410156,\n",
              "  0.1397932767868042,\n",
              "  0.19601067900657654,\n",
              "  0.1439993530511856,\n",
              "  0.18475326895713806,\n",
              "  0.1425091177225113,\n",
              "  0.16814018785953522,\n",
              "  0.13689877092838287,\n",
              "  0.15879866480827332,\n",
              "  0.17080296576023102,\n",
              "  0.141378253698349,\n",
              "  0.16854050755500793,\n",
              "  0.1552339643239975,\n",
              "  0.2127656638622284,\n",
              "  0.14545518159866333,\n",
              "  0.15897975862026215,\n",
              "  0.1521201878786087,\n",
              "  0.17082463204860687,\n",
              "  0.1753579080104828,\n",
              "  0.12581010162830353,\n",
              "  0.20840562880039215,\n",
              "  0.16839569807052612,\n",
              "  0.20009087026119232,\n",
              "  0.15089307725429535,\n",
              "  0.1729661375284195,\n",
              "  0.1580355167388916,\n",
              "  0.2480991631746292,\n",
              "  0.15301205217838287,\n",
              "  0.17846624553203583,\n",
              "  0.25561094284057617,\n",
              "  0.15042182803153992,\n",
              "  0.233520045876503,\n",
              "  0.15396662056446075,\n",
              "  0.18795709311962128,\n",
              "  0.16826899349689484,\n",
              "  0.15429557859897614,\n",
              "  0.14726939797401428,\n",
              "  0.15974776446819305,\n",
              "  0.13086949288845062,\n",
              "  0.16248264908790588,\n",
              "  0.15757964551448822,\n",
              "  0.12478824704885483,\n",
              "  0.18013638257980347,\n",
              "  0.1308659464120865,\n",
              "  0.17127595841884613,\n",
              "  0.22970643639564514,\n",
              "  0.1289975941181183,\n",
              "  0.1595744490623474,\n",
              "  0.17362022399902344,\n",
              "  0.22026075422763824,\n",
              "  0.16765616834163666,\n",
              "  0.15196508169174194,\n",
              "  0.1430429220199585,\n",
              "  0.15528111159801483,\n",
              "  0.1648656725883484,\n",
              "  0.149788960814476,\n",
              "  0.12138362973928452,\n",
              "  0.14072997868061066,\n",
              "  0.22451283037662506,\n",
              "  0.15044443309307098,\n",
              "  0.17572006583213806,\n",
              "  0.16009460389614105,\n",
              "  0.15923091769218445,\n",
              "  0.13634061813354492,\n",
              "  0.10190282016992569,\n",
              "  0.09699645638465881,\n",
              "  0.13189511001110077,\n",
              "  0.18099890649318695,\n",
              "  0.21720169484615326,\n",
              "  0.13634441792964935,\n",
              "  0.14805135130882263,\n",
              "  0.11080305278301239,\n",
              "  0.1183909922838211,\n",
              "  0.16699910163879395,\n",
              "  0.1531529724597931,\n",
              "  0.13027314841747284,\n",
              "  0.16392962634563446,\n",
              "  0.13903102278709412,\n",
              "  0.16398297250270844,\n",
              "  0.14321736991405487,\n",
              "  0.1534731239080429,\n",
              "  0.15805843472480774,\n",
              "  0.12743966281414032,\n",
              "  0.18914107978343964,\n",
              "  0.1079961508512497,\n",
              "  0.12916862964630127,\n",
              "  0.11600640416145325,\n",
              "  0.13470374047756195,\n",
              "  0.16095569729804993,\n",
              "  0.16692081093788147,\n",
              "  0.20458641648292542,\n",
              "  0.15944062173366547,\n",
              "  0.16418826580047607,\n",
              "  0.15865346789360046,\n",
              "  0.11802778393030167,\n",
              "  0.16204285621643066,\n",
              "  0.16042092442512512,\n",
              "  0.1547081172466278,\n",
              "  0.18487101793289185,\n",
              "  0.12337538599967957,\n",
              "  0.1540125608444214,\n",
              "  0.178706094622612,\n",
              "  0.15054374933242798,\n",
              "  0.18861934542655945,\n",
              "  0.17259681224822998,\n",
              "  0.12987683713436127,\n",
              "  0.1696772277355194,\n",
              "  0.11637892574071884,\n",
              "  0.17083656787872314,\n",
              "  0.15550804138183594,\n",
              "  0.12394779920578003,\n",
              "  0.1839136779308319,\n",
              "  0.14776988327503204,\n",
              "  0.1858297884464264,\n",
              "  0.10545723140239716,\n",
              "  0.1661553680896759,\n",
              "  0.11153197288513184,\n",
              "  0.1108580082654953,\n",
              "  0.13935638964176178,\n",
              "  0.1705349087715149,\n",
              "  0.1691620796918869,\n",
              "  0.1287212073802948,\n",
              "  0.17362889647483826,\n",
              "  0.06717485934495926,\n",
              "  0.1274109035730362,\n",
              "  0.14700201153755188,\n",
              "  0.13359233736991882,\n",
              "  0.14632463455200195,\n",
              "  0.12954100966453552,\n",
              "  0.16772150993347168,\n",
              "  0.12977199256420135,\n",
              "  0.1737862080335617,\n",
              "  0.11993701010942459,\n",
              "  0.21919147670269012,\n",
              "  0.1466262936592102,\n",
              "  0.11061524599790573,\n",
              "  0.22126035392284393,\n",
              "  0.09411730617284775,\n",
              "  0.1272771954536438,\n",
              "  0.13087548315525055,\n",
              "  0.1883145570755005,\n",
              "  0.2074633538722992,\n",
              "  0.12318193912506104,\n",
              "  0.12228931486606598,\n",
              "  0.1344231516122818,\n",
              "  0.1251371204853058,\n",
              "  0.12968280911445618,\n",
              "  0.1138874813914299,\n",
              "  0.17076408863067627,\n",
              "  0.09953714907169342,\n",
              "  0.11620940268039703,\n",
              "  0.16864214837551117,\n",
              "  0.10990352183580399,\n",
              "  0.14446063339710236,\n",
              "  0.1360655426979065,\n",
              "  0.11875877529382706,\n",
              "  0.1204967200756073,\n",
              "  0.09389421343803406,\n",
              "  0.11778465658426285,\n",
              "  0.13957329094409943,\n",
              "  0.16908200085163116,\n",
              "  0.17392899096012115,\n",
              "  0.110616035759449,\n",
              "  0.17675751447677612,\n",
              "  0.13850249350070953,\n",
              "  0.11064322292804718,\n",
              "  0.16414903104305267,\n",
              "  0.12846039235591888,\n",
              "  0.18459655344486237,\n",
              "  0.12371610105037689,\n",
              "  0.1306440532207489,\n",
              "  0.16311730444431305,\n",
              "  0.1373518407344818,\n",
              "  0.12436416000127792,\n",
              "  0.11602084338665009,\n",
              "  0.10077780485153198,\n",
              "  0.136343851685524,\n",
              "  0.19704584777355194,\n",
              "  0.12739932537078857,\n",
              "  0.13874033093452454,\n",
              "  0.13170136511325836,\n",
              "  0.15736939013004303,\n",
              "  0.14459238946437836,\n",
              "  0.12312901020050049,\n",
              "  0.08996456861495972,\n",
              "  0.12845571339130402,\n",
              "  0.14460618793964386,\n",
              "  0.18689242005348206,\n",
              "  0.1014692410826683,\n",
              "  0.1319737583398819,\n",
              "  0.1436615139245987,\n",
              "  0.13895876705646515,\n",
              "  0.1885034143924713,\n",
              "  0.14264537394046783,\n",
              "  0.15494701266288757,\n",
              "  0.14580807089805603,\n",
              "  0.19521015882492065,\n",
              "  0.1666611284017563,\n",
              "  0.131143718957901,\n",
              "  0.08565840125083923,\n",
              "  0.1475115567445755,\n",
              "  0.16285274922847748,\n",
              "  0.16910330951213837,\n",
              "  0.1291678249835968,\n",
              "  0.146493062376976,\n",
              "  0.12337883561849594,\n",
              "  0.12134844809770584,\n",
              "  0.1415576934814453,\n",
              "  0.15789811313152313,\n",
              "  0.12908297777175903,\n",
              "  0.11691813170909882,\n",
              "  0.16082748770713806,\n",
              "  0.17470593750476837,\n",
              "  0.14628590643405914,\n",
              "  0.1439414918422699,\n",
              "  0.14169104397296906,\n",
              "  0.163911834359169,\n",
              "  0.12174112349748611,\n",
              "  0.13995346426963806,\n",
              "  0.12401232868432999,\n",
              "  0.15700913965702057,\n",
              "  0.14998088777065277,\n",
              "  0.0854693129658699,\n",
              "  0.08214593678712845,\n",
              "  0.11512812972068787,\n",
              "  0.11972597241401672,\n",
              "  0.14244979619979858,\n",
              "  0.10500538349151611,\n",
              "  0.15754683315753937,\n",
              "  0.10047067701816559,\n",
              "  0.21191725134849548,\n",
              "  0.140645369887352,\n",
              "  0.22804182767868042,\n",
              "  0.11601798236370087,\n",
              "  0.1724739968776703,\n",
              "  0.12429136782884598,\n",
              "  0.15425711870193481,\n",
              "  0.16945882141590118,\n",
              "  0.13815714418888092,\n",
              "  0.15580768883228302,\n",
              "  0.15096910297870636,\n",
              "  0.11734684556722641,\n",
              "  0.14049683511257172,\n",
              "  0.11717129498720169,\n",
              "  0.1348411589860916,\n",
              "  0.12605611979961395,\n",
              "  0.12215801328420639,\n",
              "  0.11002244800329208,\n",
              "  0.10055354982614517,\n",
              "  0.10892373323440552,\n",
              "  0.11806388944387436,\n",
              "  0.17294587194919586,\n",
              "  0.11999496072530746,\n",
              "  0.09844805300235748,\n",
              "  0.12027481198310852,\n",
              "  0.14435017108917236,\n",
              "  0.12389158457517624,\n",
              "  0.12130598723888397,\n",
              "  0.12001803517341614,\n",
              "  0.13086509704589844,\n",
              "  0.12996789813041687,\n",
              "  0.12534862756729126,\n",
              "  0.12291910499334335,\n",
              "  0.08590468764305115,\n",
              "  0.14111872017383575,\n",
              "  0.12464556097984314,\n",
              "  0.15094564855098724,\n",
              "  0.11432260274887085,\n",
              "  0.13200105726718903,\n",
              "  0.12108633667230606,\n",
              "  0.10110743343830109,\n",
              "  0.1499764621257782,\n",
              "  0.1054326742887497,\n",
              "  0.1705479919910431,\n",
              "  0.1184479221701622,\n",
              "  0.14316779375076294,\n",
              "  0.12483034282922745,\n",
              "  0.12388496845960617,\n",
              "  0.14559306204319,\n",
              "  0.12257912009954453,\n",
              "  0.11696112900972366,\n",
              "  0.0797148048877716,\n",
              "  0.15671230852603912,\n",
              "  0.12887798249721527,\n",
              "  0.13776572048664093,\n",
              "  0.1535581648349762,\n",
              "  0.12495408207178116,\n",
              "  0.11816678196191788,\n",
              "  0.13535428047180176,\n",
              "  0.11610953509807587,\n",
              "  0.15598748624324799,\n",
              "  0.145649716258049,\n",
              "  0.14387214183807373,\n",
              "  0.12110402435064316,\n",
              "  0.1502511352300644,\n",
              "  0.12971441447734833,\n",
              "  0.11987529695034027,\n",
              "  0.09155478328466415,\n",
              "  ...],\n",
              " [0.36939218640327454,\n",
              "  0.3002607822418213,\n",
              "  0.25551119446754456,\n",
              "  0.23027367889881134,\n",
              "  0.2084517627954483,\n",
              "  0.17818135023117065,\n",
              "  0.1551092118024826,\n",
              "  0.1500585377216339,\n",
              "  0.13198764622211456,\n",
              "  0.13422736525535583],\n",
              " [tensor(0.8970, device='cuda:0', dtype=torch.float64),\n",
              "  tensor(0.9070, device='cuda:0', dtype=torch.float64),\n",
              "  tensor(0.9220, device='cuda:0', dtype=torch.float64),\n",
              "  tensor(0.9340, device='cuda:0', dtype=torch.float64),\n",
              "  tensor(0.9430, device='cuda:0', dtype=torch.float64),\n",
              "  tensor(0.9440, device='cuda:0', dtype=torch.float64),\n",
              "  tensor(0.9480, device='cuda:0', dtype=torch.float64),\n",
              "  tensor(0.9530, device='cuda:0', dtype=torch.float64),\n",
              "  tensor(0.9580, device='cuda:0', dtype=torch.float64),\n",
              "  tensor(0.9580, device='cuda:0', dtype=torch.float64)])"
            ]
          },
          "metadata": {
            "tags": []
          },
          "execution_count": 26
        }
      ]
    },
    {
      "cell_type": "code",
      "metadata": {
        "colab": {
          "base_uri": "https://localhost:8080/"
        },
        "id": "iLRLhmV42Gze",
        "outputId": "109079a9-a555-4209-8448-d150fb6aadb3"
      },
      "source": [
        "model2.parameters()"
      ],
      "execution_count": null,
      "outputs": [
        {
          "output_type": "execute_result",
          "data": {
            "text/plain": [
              "<generator object Module.parameters at 0x7f7d994be6d0>"
            ]
          },
          "metadata": {
            "tags": []
          },
          "execution_count": 27
        }
      ]
    }
  ]
}