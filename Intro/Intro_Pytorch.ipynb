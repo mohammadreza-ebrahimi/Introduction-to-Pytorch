{
 "cells": [
  {
   "cell_type": "markdown",
   "metadata": {
    "id": "e7-oplDHwx5V"
   },
   "source": [
    "# **Intro to Pytorch and Tensorboard** "
   ]
  },
  {
   "cell_type": "code",
   "execution_count": 1,
   "metadata": {},
   "outputs": [
    {
     "name": "stdout",
     "output_type": "stream",
     "text": [
      "Requirement already satisfied: torch in /home/mohammadreza/.local/lib/python3.8/site-packages (1.9.0)\n",
      "Requirement already satisfied: typing-extensions in /home/mohammadreza/.local/lib/python3.8/site-packages (from torch) (3.7.4.3)\n",
      "Note: you may need to restart the kernel to use updated packages.\n"
     ]
    }
   ],
   "source": [
    "pip install torch"
   ]
  },
  {
   "cell_type": "code",
   "execution_count": 2,
   "metadata": {},
   "outputs": [
    {
     "name": "stdout",
     "output_type": "stream",
     "text": [
      "Requirement already satisfied: tqdm in /home/mohammadreza/.local/lib/python3.8/site-packages (4.62.0)\n",
      "Note: you may need to restart the kernel to use updated packages.\n"
     ]
    }
   ],
   "source": [
    "pip install tqdm"
   ]
  },
  {
   "cell_type": "code",
   "execution_count": 1,
   "metadata": {
    "id": "jlRUxfN4wdwy"
   },
   "outputs": [],
   "source": [
    "import torch\n",
    "from torch import nn\n",
    "import torch.nn.functional as F\n",
    "import numpy as np\n",
    "from IPython.display import clear_output\n",
    "import matplotlib.pyplot as plt\n",
    "import tqdm\n",
    "from torch.utils.tensorboard import SummaryWriter\n",
    "\n",
    "%matplotlib inline"
   ]
  },
  {
   "cell_type": "markdown",
   "metadata": {
    "id": "SndSdr_kxkbD"
   },
   "source": [
    "\n",
    "## Data load\n",
    "\n",
    "All dataset classes are subclasses of [`torch.util.data.Dataset`](https://pytorch.org/docs/stable/data.html#torch.utils.data.Dataset) have `__getitem__` and `__len__` methods implemented. Thus, it can be passed to a [`torch.utils.data.DataLoader`](https://pytorch.org/docs/stable/data.html#torch.utils.data.DataLoader), which can load multiple samples parallelly.\n",
    "Popular Dataset subclasses:\n",
    "\n",
    "- [MNIST](https://pytorch.org/docs/stable/torchvision/datasets.html#mnist)\n",
    "- [Fashion-MNIST](https://pytorch.org/docs/stable/torchvision/datasets.html#fashion-mnist)\n",
    "- [CIFAR](https://pytorch.org/docs/stable/torchvision/datasets.html#cifar)\n",
    "- [CelebA](https://pytorch.org/docs/stable/torchvision/datasets.html#celeba)\n",
    "\n",
    "`MNIST` constructor signature: `torchvision.datasets.MNIST(root, train=True, transform=None, target_transform=None, download=False)`, where `transform` - function/transform that takes in an PIL (Height x Width x Channels) image and returns a transformed version. \n",
    "\n",
    "**Several transformations can be combined together. Popular transformations**:\n",
    "- `torchvision.transforms.Normalize(mean, std, inplace=False)`\n",
    "- `torchvision.transforms.ToTensor()` - Converts a PIL Image or `numpy.ndarray` (H x W x C) in the range `[0, 255]` to a `torch.FloatTensor` of shape (C x H x W) in the range `[0.0, 1.0]` \n",
    "\n",
    "\n",
    "DataLoader constructor signature\n",
    "`torch.utils.data.DataLoader(dataset, batch_size=1, shuffle=False, sampler=None, batch_sampler=None, num_workers=0, collate_fn=None, pin_memory=False, drop_last=False, timeout=0, worker_init_fn=None, multiprocessing_context=None)`, where\n",
    "- dataset is DataSet instance\n",
    "- batch_size - number of items sampled at every iteration\n",
    "- num_workers - number of simultaneous reading processes (**NB** on Windows you might want to set it to `0`)\n",
    "\n",
    "DataLoaders provide convenient interface for training loops: \n",
    "\n",
    "```python\n",
    "    for epoch in range(num_epochs):\n",
    "        for i, data in enumerate(trainloader, 0):\n",
    "            # get the inputs; data is a list of [inputs, labels]\n",
    "            inputs, labels = data\n",
    "            ...\n",
    "            \n",
    "```\n",
    "or \n",
    "```python\n",
    "    batch_X, batch_y = iter(trainloader).next()\n",
    "```"
   ]
  },
  {
   "cell_type": "code",
   "execution_count": 2,
   "metadata": {},
   "outputs": [
    {
     "name": "stdout",
     "output_type": "stream",
     "text": [
      "Defaulting to user installation because normal site-packages is not writeable\n",
      "Requirement already satisfied: torchvision in /home/mohammadreza/.local/lib/python3.8/site-packages (0.10.0)\n",
      "Requirement already satisfied: torch==1.9.0 in /home/mohammadreza/.local/lib/python3.8/site-packages (from torchvision) (1.9.0)\n",
      "Requirement already satisfied: numpy in /home/mohammadreza/.local/lib/python3.8/site-packages (from torchvision) (1.19.5)\n",
      "Requirement already satisfied: pillow>=5.3.0 in /usr/lib/python3/dist-packages (from torchvision) (7.0.0)\n",
      "Requirement already satisfied: typing-extensions in /home/mohammadreza/.local/lib/python3.8/site-packages (from torch==1.9.0->torchvision) (3.7.4.3)\n",
      "Note: you may need to restart the kernel to use updated packages.\n"
     ]
    }
   ],
   "source": [
    "pip install torchvision"
   ]
  },
  {
   "cell_type": "code",
   "execution_count": 3,
   "metadata": {
    "colab": {
     "base_uri": "https://localhost:8080/"
    },
    "id": "1Q4tJf4Bwwhf",
    "outputId": "bde969da-c62e-4541-8879-ccde56cd79be"
   },
   "outputs": [
    {
     "name": "stderr",
     "output_type": "stream",
     "text": [
      "/home/mohammadreza/.local/lib/python3.8/site-packages/torchvision/datasets/mnist.py:498: UserWarning: The given NumPy array is not writeable, and PyTorch does not support non-writeable tensors. This means you can write to the underlying (supposedly non-writeable) NumPy array using the tensor. You may want to copy the array to protect its data or make it writeable before converting it to a tensor. This type of warning will be suppressed for the rest of this program. (Triggered internally at  /pytorch/torch/csrc/utils/tensor_numpy.cpp:180.)\n",
      "  return torch.from_numpy(parsed.astype(m[2], copy=False)).view(*s)\n"
     ]
    }
   ],
   "source": [
    "from torchvision import datasets\n",
    "import torchvision.transforms as transforms\n",
    "\n",
    "transform = transforms.Compose([\n",
    "                                transforms.ToTensor(),\n",
    "                                transforms.Normalize((0.5,), (0.5,)) # normalize around 0.5 with std 0.5\n",
    "]) # Transforms data to tensor. ('numpy array' or 'PIL image' --> Tensor)\n",
    "\n",
    "ds_train = datasets.MNIST(\"~/share/data/\", train=True, download=True, transform=transform)\n",
    "ds_test = datasets.MNIST(\"~/share/data/\", train=False, download=True, transform=transform)"
   ]
  },
  {
   "cell_type": "code",
   "execution_count": 4,
   "metadata": {
    "id": "wOsyVGtczlY6"
   },
   "outputs": [],
   "source": [
    "#dataloader: Allows you wrap an iterable around the Dataset instance, to enable \n",
    "# easy access to the sample. here we have 512 batch per an iteration.\n",
    "# briefly, it take sample form our Dataset, here is MNIST\n",
    "train_loader = torch.utils.data.DataLoader(ds_train, batch_size=512,\n",
    "                                           shuffle=True, num_workers=2)\n",
    "# batch_size = number of objects per iteration\n",
    "\n",
    "test_loader = torch.utils.data.DataLoader(ds_test, batch_size=1000, \n",
    "                                          shuffle=False, num_workers=2)"
   ]
  },
  {
   "cell_type": "code",
   "execution_count": 5,
   "metadata": {
    "colab": {
     "base_uri": "https://localhost:8080/"
    },
    "id": "BylGwAzt1bD0",
    "outputId": "c8ed7cc9-cd6b-4e99-9460-439ea255348f"
   },
   "outputs": [
    {
     "name": "stdout",
     "output_type": "stream",
     "text": [
      "Train: Dataset MNIST\n",
      "    Number of datapoints: 60000\n",
      "    Root location: /home/mohammadreza/share/data/\n",
      "    Split: Train\n",
      "    StandardTransform\n",
      "Transform: Compose(\n",
      "               ToTensor()\n",
      "               Normalize(mean=(0.5,), std=(0.5,))\n",
      "           ) \n",
      "Test: Dataset MNIST\n",
      "    Number of datapoints: 10000\n",
      "    Root location: /home/mohammadreza/share/data/\n",
      "    Split: Test\n",
      "    StandardTransform\n",
      "Transform: Compose(\n",
      "               ToTensor()\n",
      "               Normalize(mean=(0.5,), std=(0.5,))\n",
      "           )\n"
     ]
    }
   ],
   "source": [
    "print('Train:', ds_train, \"\\nTest:\", ds_test)"
   ]
  },
  {
   "cell_type": "code",
   "execution_count": 6,
   "metadata": {
    "colab": {
     "base_uri": "https://localhost:8080/"
    },
    "id": "OJI1MIhw3Hp6",
    "outputId": "138800d6-8fd0-46f7-9c57-ffb3684edec9"
   },
   "outputs": [
    {
     "data": {
      "text/plain": [
       "torch.utils.data.dataloader.DataLoader"
      ]
     },
     "execution_count": 6,
     "metadata": {},
     "output_type": "execute_result"
    }
   ],
   "source": [
    "type(train_loader)"
   ]
  },
  {
   "cell_type": "markdown",
   "metadata": {
    "id": "f_Kk_zP9KvOz"
   },
   "source": [
    "**Get sample out of the train loader**  \n",
    "it gives you couple of data ---→ ***X_batch*** & ***y_batch***"
   ]
  },
  {
   "cell_type": "code",
   "execution_count": 7,
   "metadata": {
    "colab": {
     "base_uri": "https://localhost:8080/"
    },
    "id": "USOTOeEc1vMp",
    "outputId": "e335e25c-c255-42fd-8f57-d83d777f49d4"
   },
   "outputs": [
    {
     "name": "stdout",
     "output_type": "stream",
     "text": [
      "batch size: 512 batch_dimension torch.Size([512, 1, 28, 28])\n"
     ]
    }
   ],
   "source": [
    "X_batch, y_batch = iter(train_loader).next() # The next() function returns the \n",
    "# next item in an iterator. 1 iteration = 512 sample\n",
    "\n",
    "print('batch size:', len(X_batch), \"batch_dimension\", X_batch.shape)"
   ]
  },
  {
   "cell_type": "markdown",
   "metadata": {
    "id": "GhD5KBhsLa2C"
   },
   "source": [
    "The output is torch tensor"
   ]
  },
  {
   "cell_type": "code",
   "execution_count": 8,
   "metadata": {
    "colab": {
     "base_uri": "https://localhost:8080/"
    },
    "id": "isMJ7oH32x8N",
    "outputId": "8ff945b0-e705-4546-b6db-f2926edf64eb"
   },
   "outputs": [
    {
     "data": {
      "text/plain": [
       "(torch.Tensor, torchvision.datasets.mnist.MNIST)"
      ]
     },
     "execution_count": 8,
     "metadata": {},
     "output_type": "execute_result"
    }
   ],
   "source": [
    "type(X_batch), type(ds_train)"
   ]
  },
  {
   "cell_type": "code",
   "execution_count": 9,
   "metadata": {
    "colab": {
     "base_uri": "https://localhost:8080/",
     "height": 339
    },
    "id": "Zl07tj0760Wf",
    "outputId": "97e0459e-8143-498d-aedd-73aaa1739763"
   },
   "outputs": [
    {
     "data": {
      "image/png": "[encoded data removed]",
      "text/plain": [
       "<Figure size 400x400 with 1 Axes>"
      ]
     },
     "metadata": {
      "needs_background": "light"
     },
     "output_type": "display_data"
    }
   ],
   "source": [
    "plt.figure(figsize=(4, 4), dpi=100)\n",
    "plt.axis('off')\n",
    "\n",
    "plt.imshow(\n",
    "    torch.transpose(\n",
    "        torch.cat(\n",
    "            [X_batch[y_batch == c][:10] for c in range(10)], axis=0\n",
    "        ).reshape(10, 10, 28, 28),\n",
    "        1, 2\n",
    "    ).reshape(280, 280)\n",
    ")\n",
    "plt.show()"
   ]
  },
  {
   "cell_type": "markdown",
   "metadata": {
    "id": "l2pwwCkC87al"
   },
   "source": [
    "## Automatic differentiation\n",
    "Automatic differentiaion is the main mechanism for the backpropagation in PyTorch. PyTorch provides a module, `autograd`, for automatically calculating the gradients of tensors. We can use it to calculate the gradients of all our parameters with respect to the loss. Autograd works by keeping track of operations performed on tensors, then going backwards through those operations, calculating gradients along the way. To make sure PyTorch keeps track of operations on a tensor and calculates the gradients, you need to set `requires_grad = True` on a tensor. You can do this at creation with the `requires_grad` keyword, or at any time with `x.requires_grad_(True)`.\n",
    "\n",
    "You can turn off gradients for a block of code with the `torch.no_grad()` context:\n",
    "\n",
    "```\n",
    "x = torch.zeros(1, requires_grad=True)\n",
    ">>> with torch.no_grad():\n",
    "...     y = x * 2\n",
    ">>> y.requires_grad\n",
    "False\n",
    "```\n",
    "Also, you can turn on or off gradients altogether with `torch.set_grad_enabled(True|False)`.\n",
    "\n",
    "The gradients are computed with respect to some variable `z` with `z.backward()`. This does a backward pass through the operations that created `z`."
   ]
  },
  {
   "cell_type": "code",
   "execution_count": 10,
   "metadata": {
    "colab": {
     "base_uri": "https://localhost:8080/"
    },
    "id": "6644vg8-7Nin",
    "outputId": "805a5f03-e566-4a4e-ea9c-566c6d909c46"
   },
   "outputs": [
    {
     "name": "stdout",
     "output_type": "stream",
     "text": [
      "tensor([[-0.1555,  1.0266],\n",
      "        [-0.7756, -2.2376]], requires_grad=True)\n"
     ]
    }
   ],
   "source": [
    "x = torch.randn(2, 2, requires_grad=True) # 2*2 matrix, initialized with random number\n",
    "print(x)"
   ]
  },
  {
   "cell_type": "code",
   "execution_count": 9,
   "metadata": {
    "colab": {
     "base_uri": "https://localhost:8080/"
    },
    "id": "ZgpTlyfQ9i9R",
    "outputId": "9f725340-751c-4442-87bd-78209daa7091"
   },
   "outputs": [
    {
     "name": "stdout",
     "output_type": "stream",
     "text": [
      "tensor([[0.1097, 3.2060],\n",
      "        [0.6339, 0.4343]], grad_fn=<PowBackward0>) tensor([[    nan, -0.5693],\n",
      "        [    nan,     nan]], grad_fn=<MulBackward0>)\n"
     ]
    }
   ],
   "source": [
    "# operation on x  \n",
    "y = x ** 2\n",
    "y1 = torch.sqrt(x) * torch.sin(2 * x)\n",
    "print(y, y1)"
   ]
  },
  {
   "cell_type": "markdown",
   "metadata": {
    "id": "IyhQv8HY91M-"
   },
   "source": [
    "Below we can see the operation that created `y`, a power operation `PowBackward0`."
   ]
  },
  {
   "cell_type": "code",
   "execution_count": 10,
   "metadata": {
    "colab": {
     "base_uri": "https://localhost:8080/"
    },
    "id": "IdCRMJHS9vEF",
    "outputId": "0684e32e-621f-4869-fd3e-2f477b29bcac"
   },
   "outputs": [
    {
     "name": "stdout",
     "output_type": "stream",
     "text": [
      "Operation on x in y1 is :  <MulBackward0 object at 0x7fc09bc8c7c0>\n",
      "------------------------------\n",
      "Operation on x in y is :  <PowBackward0 object at 0x7fc09bc8c7c0>\n"
     ]
    }
   ],
   "source": [
    "## grad_fn shows the function that generated this variable y\n",
    "print('Operation on x in y1 is : ', y1.grad_fn)\n",
    "print('---'*10)\n",
    "print('Operation on x in y is : ', y.grad_fn)"
   ]
  },
  {
   "cell_type": "markdown",
   "metadata": {
    "id": "Z1DDZb5j-1CS"
   },
   "source": [
    "Till now, `autograd` has kept track of the operators on x, which is `<PowBackward0`. Pytorch would not compute the gradient unless you use `backward()` function."
   ]
  },
  {
   "cell_type": "code",
   "execution_count": 15,
   "metadata": {
    "colab": {
     "base_uri": "https://localhost:8080/"
    },
    "id": "OcU8c0eG-q-l",
    "outputId": "2daf2209-2b58-4296-9114-f44d51e6b0b0"
   },
   "outputs": [
    {
     "name": "stdout",
     "output_type": "stream",
     "text": [
      "None\n"
     ]
    }
   ],
   "source": [
    "print(x.grad)"
   ]
  },
  {
   "cell_type": "markdown",
   "metadata": {
    "id": "g47HctUQ_2rx"
   },
   "source": [
    "Sine we have not computed any gradient of y with respect to x"
   ]
  },
  {
   "cell_type": "code",
   "execution_count": 16,
   "metadata": {
    "id": "E6f7P6h8_xA6"
   },
   "outputs": [],
   "source": [
    "#y.backward()"
   ]
  },
  {
   "cell_type": "markdown",
   "metadata": {
    "id": "mx6rw2whAUqJ"
   },
   "source": [
    "The autograd module keeps track of these operations and knows how to calculate the gradient for each one. In this way, it's able to calculate the gradients for a chain of operations, with respect to any one tensor. In order to get rid of this error, Let's reduce the tensor `y` to a scalar value, the mean."
   ]
  },
  {
   "cell_type": "markdown",
   "metadata": {
    "id": "_0u6vGQSKSw1"
   },
   "source": [
    "To calculate the gradients, you need to run the `.backward` method on a variable `z`, for example. This will calculate the gradient for `z` with respect to `x`\n",
    "\n",
    "$$\\frac{\\partial z}{\\partial x}=\\frac{\\partial}{\\partial x}\\left[\\frac{1}{n} \\sum_{i}^{n} x_{i}^{2}\\right]=\\frac{x}{2}$$\n"
   ]
  },
  {
   "cell_type": "code",
   "execution_count": 17,
   "metadata": {
    "colab": {
     "base_uri": "https://localhost:8080/"
    },
    "id": "MRjaRNJzAABu",
    "outputId": "4f3e4f45-8f50-4129-d2d8-dd903bd58897"
   },
   "outputs": [
    {
     "name": "stdout",
     "output_type": "stream",
     "text": [
      "z =  tensor(1.2775, grad_fn=<MeanBackward0>) \n",
      " ---------------------------------------------\n",
      "tensor([[ 0.3824,  0.9491],\n",
      "        [-0.4643, -0.1225]])\n",
      "--------------------------------------------- \n",
      "x/2 = tensor([[ 0.3824,  0.9491],\n",
      "        [-0.4643, -0.1225]], grad_fn=<DivBackward0>)\n"
     ]
    }
   ],
   "source": [
    "z = y.mean() # sum(1/4 (x ** 2))\n",
    "print('z = ', z, '\\n','---'*15)\n",
    "z.backward() #1/4 ( d/dx x ** 2)\n",
    "print(x.grad)\n",
    "print('---'*15, '\\nx/2 =', x/2)"
   ]
  },
  {
   "cell_type": "code",
   "execution_count": 18,
   "metadata": {
    "colab": {
     "base_uri": "https://localhost:8080/"
    },
    "id": "CGsEoU0zA2ua",
    "outputId": "58a40150-f9a4-4fe8-e2bc-f09b9fa01e6e"
   },
   "outputs": [
    {
     "name": "stdout",
     "output_type": "stream",
     "text": [
      "tensor([[ 0.7647,  1.8982],\n",
      "        [-0.9285, -0.2450]], requires_grad=True)\n"
     ]
    }
   ],
   "source": [
    "print(x)"
   ]
  },
  {
   "cell_type": "code",
   "execution_count": 19,
   "metadata": {
    "colab": {
     "base_uri": "https://localhost:8080/"
    },
    "id": "iHNUBammD7s6",
    "outputId": "64364203-a010-4add-9668-ea40c64b1a80"
   },
   "outputs": [
    {
     "name": "stdout",
     "output_type": "stream",
     "text": [
      "tensor([[0.5848, 3.6032],\n",
      "        [0.8622, 0.0600]], grad_fn=<PowBackward0>)\n"
     ]
    }
   ],
   "source": [
    "print(y)"
   ]
  },
  {
   "cell_type": "code",
   "execution_count": 20,
   "metadata": {
    "colab": {
     "base_uri": "https://localhost:8080/"
    },
    "id": "qbfLB6pvEdEq",
    "outputId": "157c35cd-3dab-4009-c7b2-bf8044c8cb05"
   },
   "outputs": [
    {
     "data": {
      "text/plain": [
       "0.516675"
      ]
     },
     "execution_count": 20,
     "metadata": {},
     "output_type": "execute_result"
    }
   ],
   "source": [
    "0.9129/4 + 0.149/4 + 0.9854/4 + 0.0194/4"
   ]
  },
  {
   "cell_type": "markdown",
   "metadata": {
    "id": "AVNdf_wJLny8"
   },
   "source": [
    "***\n",
    "\n",
    "Deep learning requires rapid calculation. Fortunately, Pytorch supports GPU acceleration. First, you have to check if your graphic card supports CUDA. for install and more details see [here](https://developer.nvidia.com/cuda-downloads).  \n",
    "Below, we define a function to choose a cuda randomly. "
   ]
  },
  {
   "cell_type": "code",
   "execution_count": 21,
   "metadata": {},
   "outputs": [
    {
     "name": "stdout",
     "output_type": "stream",
     "text": [
      "1.9.0+cu102\n"
     ]
    },
    {
     "data": {
      "text/plain": [
       "1"
      ]
     },
     "execution_count": 21,
     "metadata": {},
     "output_type": "execute_result"
    }
   ],
   "source": [
    "import torch\n",
    "print(torch.__version__)# Get PyTorch and CUDA version\n",
    "#torch.cuda.is_available() # Check that CUDA works\n",
    "torch.cuda.device_count() # Check how many CUDA capable devices you have"
   ]
  },
  {
   "cell_type": "code",
   "execution_count": 11,
   "metadata": {
    "id": "vx3Nn6yYEuTY"
   },
   "outputs": [],
   "source": [
    "def get_random_gpu():\n",
    "    return np.random.randint(2)\n",
    "\n",
    "def get_free_gpu():\n",
    "    from pynvml import nvmlInit, nvmlDeviceGetHandleByIndex, nvmlDeviceGetMemoryInfo, nvmlDeviceGetCount\n",
    "    nvmlInit()\n",
    "\n",
    "    return np.argmax([\n",
    "        nvmlDeviceGetMemoryInfo(nvmlDeviceGetHandleByIndex(i)).free\n",
    "        for i in range(nvmlDeviceGetCount())\n",
    "    ])"
   ]
  },
  {
   "cell_type": "code",
   "execution_count": 12,
   "metadata": {},
   "outputs": [
    {
     "data": {
      "text/plain": [
       "0"
      ]
     },
     "execution_count": 12,
     "metadata": {},
     "output_type": "execute_result"
    }
   ],
   "source": [
    "get_random_gpu()"
   ]
  },
  {
   "cell_type": "code",
   "execution_count": 14,
   "metadata": {
    "colab": {
     "base_uri": "https://localhost:8080/"
    },
    "id": "_P0iFQy4E0_D",
    "outputId": "96b1464a-6e88-437d-9165-0ad9354c45e1"
   },
   "outputs": [
    {
     "name": "stdout",
     "output_type": "stream",
     "text": [
      "Selected cuda:0\n"
     ]
    }
   ],
   "source": [
    "if torch.cuda.is_available():\n",
    "    if get_random_gpu()==0:\n",
    "        device = f'cuda:{0}'\n",
    "        print(f'Selected {device}')\n",
    "    else:\n",
    "        device = 'cpu'\n",
    "        print('WARNING: using cpu!')"
   ]
  },
  {
   "cell_type": "markdown",
   "metadata": {
    "id": "E31bI3n0Nb-k"
   },
   "source": [
    "**From now, we send our models and data to selected device** `cuda:0`"
   ]
  },
  {
   "cell_type": "code",
   "execution_count": 12,
   "metadata": {
    "colab": {
     "base_uri": "https://localhost:8080/"
    },
    "id": "XdRnYnwyE8UM",
    "outputId": "4299c4d9-7b4e-4d49-dbad-18f59e9f5e08"
   },
   "outputs": [
    {
     "name": "stdout",
     "output_type": "stream",
     "text": [
      "Weight shapes:\n",
      "   torch.Size([100, 784])\n",
      "   torch.Size([100])\n",
      "   torch.Size([10, 100])\n",
      "   torch.Size([10])\n"
     ]
    }
   ],
   "source": [
    "# create a network that stacks layers on top of each other\n",
    "model = nn.Sequential(\n",
    "    nn.Linear(784, 100), # add first \"dense\" layer with 784 input\n",
    "                         # units and 100 output units (hidden layer\n",
    "                         # with 100 neurons).\n",
    "    nn.ReLU(),\n",
    "    nn.Linear(100, 10), # \"dense\" layer with 10 output\n",
    "                        # units (for 10 classes).\n",
    ").to(device)\n",
    "\n",
    "print(\"Weight shapes:\")\n",
    "for w in model.parameters():\n",
    "    print(\"  \", w.shape)"
   ]
  },
  {
   "cell_type": "code",
   "execution_count": 13,
   "metadata": {
    "colab": {
     "base_uri": "https://localhost:8080/"
    },
    "id": "71hq2FxrHKxt",
    "outputId": "937ca5ee-fe59-4a69-93dd-04b70b884d0a"
   },
   "outputs": [
    {
     "name": "stdout",
     "output_type": "stream",
     "text": [
      "Linear(in_features=784, out_features=100, bias=True)\n",
      "ReLU()\n",
      "Linear(in_features=100, out_features=10, bias=True)\n"
     ]
    }
   ],
   "source": [
    "for i in range(3):\n",
    "    print(model[i])"
   ]
  },
  {
   "cell_type": "code",
   "execution_count": 45,
   "metadata": {
    "id": "syDvfkOgF8yL"
   },
   "outputs": [],
   "source": [
    "def flatten_trailing(batch):\n",
    "    flat = batch.flatten(1)\n",
    "    #raise NotImplementedError()\n",
    "    return flat"
   ]
  },
  {
   "cell_type": "code",
   "execution_count": 46,
   "metadata": {
    "id": "likX9y1cGDI2"
   },
   "outputs": [],
   "source": [
    "loss_fn = nn.CrossEntropyLoss()\n",
    "predictions = model(flatten_trailing(X_batch).to(device))"
   ]
  },
  {
   "cell_type": "code",
   "execution_count": 47,
   "metadata": {
    "id": "Ms0tMJdaGgDb"
   },
   "outputs": [],
   "source": [
    "loss = loss_fn(predictions, y_batch.to(device))"
   ]
  },
  {
   "cell_type": "code",
   "execution_count": 48,
   "metadata": {
    "colab": {
     "base_uri": "https://localhost:8080/"
    },
    "id": "tiyLT5TDGkhH",
    "outputId": "9b5a25dc-259f-4436-f28f-1a2d320281a7"
   },
   "outputs": [
    {
     "name": "stdout",
     "output_type": "stream",
     "text": [
      "Before backward pass: \n",
      " None\n",
      " ** On entry to SGEMM  parameter number 10 had an illegal value\n",
      " ** On entry to SGEMM  parameter number 10 had an illegal value\n",
      "After backward pass: \n",
      " tensor([ 3.2996e-03,  2.5662e-02, -2.0980e-02, -2.7553e-02,  9.6854e-03,\n",
      "         2.4524e-02,  1.9511e-03,  1.3844e-02,  2.4199e-04, -7.3531e-03,\n",
      "        -4.8699e-04, -6.8510e-03,  3.4852e-03,  2.9572e-02,  1.3523e-02,\n",
      "         1.5184e-02, -4.8527e-03,  3.7848e-03,  1.6335e-02,  8.1558e-03,\n",
      "         4.5609e-02,  1.5962e-02,  1.2010e-02, -8.6117e-04,  1.7988e-02,\n",
      "         7.8823e-03,  1.7970e-02,  1.7659e-02,  8.8242e-03,  1.0012e-04,\n",
      "         1.8680e-02, -5.6555e-03, -3.6166e-04,  1.0007e-02,  3.9160e-03,\n",
      "         1.4981e-03,  5.1685e-03,  0.0000e+00, -9.4512e-03,  6.3400e-03,\n",
      "         2.4549e-03, -7.8210e-03,  6.9183e-03,  1.6704e-02,  0.0000e+00,\n",
      "         4.3529e-02,  2.7572e-04, -6.9785e-04,  2.3380e-02,  2.9528e-04,\n",
      "         1.5697e-02,  2.4131e-02, -1.5190e-03,  3.7539e-04,  1.8058e-04,\n",
      "         3.6431e-02,  2.9085e-05, -6.6005e-03, -1.3562e-03,  2.2441e-02,\n",
      "         2.1206e-02,  5.0080e-03,  2.1417e-02,  3.7442e-04,  5.8527e-05,\n",
      "         8.6547e-04,  4.3062e-04, -5.1231e-04, -4.0752e-03, -2.1906e-03,\n",
      "        -3.0546e-02,  6.8594e-03,  2.1492e-03,  2.4469e-03,  2.3848e-05,\n",
      "         2.5002e-02, -1.0631e-02,  1.0769e-03,  9.1247e-03,  2.5927e-04,\n",
      "         4.8384e-03,  2.9504e-02,  4.5210e-02,  3.8264e-03,  5.7414e-04,\n",
      "         1.4440e-03, -6.5789e-03, -1.0996e-02,  8.1355e-04, -7.8516e-05,\n",
      "        -1.7662e-03, -4.6190e-03,  1.4970e-02,  1.9490e-02,  8.4326e-03,\n",
      "        -7.9373e-04, -5.2439e-03,  1.4773e-02,  1.8494e-04,  2.4936e-02],\n",
      "       device='cuda:0')\n"
     ]
    }
   ],
   "source": [
    "print('Before backward pass: \\n', model[2].weight.grad)\n",
    "\n",
    "loss.backward()\n",
    "\n",
    "print('After backward pass: \\n', model[2].weight.grad[0])"
   ]
  },
  {
   "cell_type": "code",
   "execution_count": 49,
   "metadata": {
    "colab": {
     "base_uri": "https://localhost:8080/"
    },
    "id": "nVVJTKe10zYk",
    "outputId": "30d930dd-45a1-45e1-935d-0e34a232ed7c"
   },
   "outputs": [
    {
     "name": "stdout",
     "output_type": "stream",
     "text": [
      "0 a\n",
      "1 b\n",
      "2 c\n"
     ]
    }
   ],
   "source": [
    "values = [\"a\", \"b\", \"c\"]\n",
    " \n",
    "for count, value in enumerate(values):\n",
    "    print(count, value)"
   ]
  },
  {
   "cell_type": "code",
   "execution_count": 50,
   "metadata": {
    "id": "KA7pu1l0Itq4"
   },
   "outputs": [],
   "source": [
    "def train(model, num_epochs=1, batch_size=512, loss_fn=loss_fn, device='cpu'):\n",
    "    # some quantities to plot\n",
    "    train_losses = []\n",
    "    test_losses = []\n",
    "    test_accuracy = []\n",
    "    model_dev = model.to(device)\n",
    "\n",
    "    opt = torch.optim.Adam(model.parameters(), lr=1e-3)\n",
    "\n",
    "    for i_epoch in range(num_epochs):\n",
    "        t = tqdm.tqdm(iter(train_loader), leave=False, total=len(train_loader))\n",
    "        for idx, data in enumerate(t):\n",
    "            # get the next chunk (batch) of data:\n",
    "            # Sending data to 'device' with 'map'\n",
    "            batch_X, batch_y = map(lambda x: x.to(device), data)\n",
    "\n",
    "            # all the black magic:\n",
    "            loss = loss_fn(model(flatten_trailing(batch_X)), batch_y)\n",
    "            loss.backward()\n",
    "            opt.step()\n",
    "            opt.zero_grad()\n",
    "\n",
    "            # remember the loss value at this step\n",
    "            train_losses.append(loss.item())\n",
    "\n",
    "        # evaluate test loss and metrics\n",
    "        test_X, test_y = map(lambda x: x.to(device), iter(test_loader).next())\n",
    "\n",
    "        test_prediction = model(flatten_trailing(test_X.to(device)))\n",
    "        test_losses.append(\n",
    "            loss_fn(test_prediction, test_y).item()\n",
    "        )\n",
    "        test_accuracy.append(\n",
    "            (test_prediction.argmax(axis=1) == test_y).to(float).mean()\n",
    "        )\n",
    "        # all the rest is simply plotting\n",
    "\n",
    "        clear_output(wait=True)\n",
    "        print('Accuracy: ', max(test_accuracy))\n",
    "        plt.figure(figsize=(8, 3), dpi=100)\n",
    "        plt.subplot(1, 2, 1)\n",
    "        plt.plot(train_losses, label='train')\n",
    "        plt.plot(\n",
    "            np.linspace(0, len(train_losses), len(test_losses) + 1)[1:],\n",
    "            test_losses, label='test'\n",
    "        )\n",
    "        plt.ylabel(\"Loss\")\n",
    "        plt.xlabel(\"# steps\")\n",
    "        plt.legend();\n",
    "\n",
    "        plt.subplot(1, 2, 2)\n",
    "        plt.plot(test_accuracy, \"o-\")\n",
    "        plt.ylabel(\"Test accuracy\")\n",
    "        plt.xlabel(\"# epochs\");\n",
    "        plt.show()\n",
    "    return train_losses, test_losses, test_accuracy\n"
   ]
  },
  {
   "cell_type": "code",
   "execution_count": 51,
   "metadata": {
    "colab": {
     "base_uri": "https://localhost:8080/",
     "height": 323
    },
    "id": "IVaiNRkgJxfH",
    "outputId": "0c67318f-c0f6-4949-b495-5a753093986f"
   },
   "outputs": [
    {
     "name": "stdout",
     "output_type": "stream",
     "text": [
      "Accuracy:  tensor(0.9570, device='cuda:0', dtype=torch.float64)\n"
     ]
    },
    {
     "data": {
      "image/png": "[encoded data removed]",
      "text/plain": [
       "<Figure size 800x300 with 2 Axes>"
      ]
     },
     "metadata": {
      "needs_background": "light"
     },
     "output_type": "display_data"
    }
   ],
   "source": [
    "train(model, device=device, num_epochs=10);"
   ]
  },
  {
   "cell_type": "markdown",
   "metadata": {
    "id": "rVZpa2FsN1DE"
   },
   "source": [
    "### Alternative way to define neuralnetwork configuration is **nn.Module**"
   ]
  },
  {
   "cell_type": "code",
   "execution_count": 52,
   "metadata": {
    "id": "2v-_KfwyC5W6"
   },
   "outputs": [],
   "source": [
    "# Alternate method to define the same model as previous one\n",
    "class Net(nn.Module):  \n",
    "    def __init__(self): \n",
    "        # constructor : defining all objects and methods \n",
    "        super(Net, self).__init__() # In order to have access to parants methods and objects\n",
    "        self.fc1 = nn.Linear(784, 100)\n",
    "        self.fc2 = nn.Linear(100, 10)\n",
    " \n",
    "    def forward(self, X):\n",
    "        Xf = X.flatten(1) # adding flatten here\n",
    "        X1 = F.relu(self.fc1(Xf))  # first dense layer\n",
    "        return self.fc2(X1) # second layer without activator "
   ]
  },
  {
   "cell_type": "code",
   "execution_count": 53,
   "metadata": {
    "id": "77bPQiee16Bq"
   },
   "outputs": [],
   "source": [
    "model2 = Net().to(device)"
   ]
  },
  {
   "cell_type": "code",
   "execution_count": 54,
   "metadata": {
    "colab": {
     "base_uri": "https://localhost:8080/",
     "height": 1000
    },
    "id": "vqwUbFbG2AZ5",
    "outputId": "724155c1-a8f8-4e0b-8480-67fc3bb848f2"
   },
   "outputs": [
    {
     "name": "stdout",
     "output_type": "stream",
     "text": [
      "Accuracy:  tensor(0.9050, device='cuda:0', dtype=torch.float64)\n"
     ]
    },
    {
     "data": {
      "image/png": "[encoded data removed]",
      "text/plain": [
       "<Figure size 800x300 with 2 Axes>"
      ]
     },
     "metadata": {
      "needs_background": "light"
     },
     "output_type": "display_data"
    },
    {
     "data": {
      "text/plain": [
       "([2.3209893703460693,\n",
       "  2.240245819091797,\n",
       "  2.104008436203003,\n",
       "  2.039815664291382,\n",
       "  1.964576244354248,\n",
       "  1.8687013387680054,\n",
       "  1.7740676403045654,\n",
       "  1.6869879961013794,\n",
       "  1.6406453847885132,\n",
       "  1.5456697940826416,\n",
       "  1.481011986732483,\n",
       "  1.3951705694198608,\n",
       "  1.3320481777191162,\n",
       "  1.2413756847381592,\n",
       "  1.2244597673416138,\n",
       "  1.1496000289916992,\n",
       "  1.1427839994430542,\n",
       "  1.0738953351974487,\n",
       "  1.0230873823165894,\n",
       "  0.9560750722885132,\n",
       "  0.8963441252708435,\n",
       "  0.9089422225952148,\n",
       "  0.896700918674469,\n",
       "  0.8418726325035095,\n",
       "  0.7611133456230164,\n",
       "  0.8039080500602722,\n",
       "  0.7500115036964417,\n",
       "  0.7385739088058472,\n",
       "  0.6901008486747742,\n",
       "  0.7235240340232849,\n",
       "  0.669330894947052,\n",
       "  0.6956644654273987,\n",
       "  0.6051958203315735,\n",
       "  0.6262341737747192,\n",
       "  0.5762669444084167,\n",
       "  0.6528012752532959,\n",
       "  0.6229494214057922,\n",
       "  0.5652227997779846,\n",
       "  0.5822997689247131,\n",
       "  0.5765084624290466,\n",
       "  0.5073914527893066,\n",
       "  0.5934221148490906,\n",
       "  0.5290190577507019,\n",
       "  0.5272218585014343,\n",
       "  0.5017444491386414,\n",
       "  0.46818801760673523,\n",
       "  0.5302823781967163,\n",
       "  0.46197932958602905,\n",
       "  0.47489821910858154,\n",
       "  0.4821961224079132,\n",
       "  0.49354997277259827,\n",
       "  0.49428218603134155,\n",
       "  0.4407256245613098,\n",
       "  0.5108540654182434,\n",
       "  0.5071463584899902,\n",
       "  0.4822395145893097,\n",
       "  0.4635295867919922,\n",
       "  0.4841436743736267,\n",
       "  0.4665743410587311,\n",
       "  0.5342013835906982,\n",
       "  0.4662649631500244,\n",
       "  0.42242011427879333,\n",
       "  0.46817904710769653,\n",
       "  0.46820059418678284,\n",
       "  0.46708783507347107,\n",
       "  0.4449527859687805,\n",
       "  0.44596198201179504,\n",
       "  0.4783298671245575,\n",
       "  0.46130090951919556,\n",
       "  0.42495980858802795,\n",
       "  0.38638463616371155,\n",
       "  0.3843117952346802,\n",
       "  0.37503883242607117,\n",
       "  0.39008840918540955,\n",
       "  0.38999098539352417,\n",
       "  0.40851321816444397,\n",
       "  0.3815820515155792,\n",
       "  0.359475702047348,\n",
       "  0.44301220774650574,\n",
       "  0.4572548568248749,\n",
       "  0.4328262209892273,\n",
       "  0.3768535852432251,\n",
       "  0.4399595260620117,\n",
       "  0.44777119159698486,\n",
       "  0.45924678444862366,\n",
       "  0.36387118697166443,\n",
       "  0.3550078570842743,\n",
       "  0.4506702423095703,\n",
       "  0.3701189160346985,\n",
       "  0.44190889596939087,\n",
       "  0.32932108640670776,\n",
       "  0.4358687400817871,\n",
       "  0.3530828654766083,\n",
       "  0.4339681565761566,\n",
       "  0.37908607721328735,\n",
       "  0.34042367339134216,\n",
       "  0.3697044253349304,\n",
       "  0.3275991678237915,\n",
       "  0.3446841537952423,\n",
       "  0.4192374050617218,\n",
       "  0.3118515908718109,\n",
       "  0.39142951369285583,\n",
       "  0.36570242047309875,\n",
       "  0.4441927373409271,\n",
       "  0.4211975038051605,\n",
       "  0.42795097827911377,\n",
       "  0.3981066048145294,\n",
       "  0.365097314119339,\n",
       "  0.4326379895210266,\n",
       "  0.3474801480770111,\n",
       "  0.27884361147880554,\n",
       "  0.44009703397750854,\n",
       "  0.4098970293998718,\n",
       "  0.338683158159256,\n",
       "  0.35100576281547546,\n",
       "  0.38454434275627136,\n",
       "  0.3867543935775757,\n",
       "  0.3483685255050659,\n",
       "  0.4134077727794647,\n",
       "  0.38858047127723694,\n",
       "  0.33852896094322205,\n",
       "  0.28422412276268005,\n",
       "  0.30325910449028015,\n",
       "  0.3461763560771942,\n",
       "  0.3528161644935608,\n",
       "  0.32930588722229004,\n",
       "  0.37322676181793213,\n",
       "  0.37343281507492065,\n",
       "  0.39597758650779724,\n",
       "  0.36230239272117615,\n",
       "  0.3299543857574463,\n",
       "  0.3501163721084595,\n",
       "  0.32825639843940735,\n",
       "  0.333972692489624,\n",
       "  0.32694506645202637,\n",
       "  0.32650867104530334,\n",
       "  0.35273924469947815,\n",
       "  0.31702253222465515,\n",
       "  0.2613181173801422,\n",
       "  0.30945298075675964,\n",
       "  0.35887598991394043,\n",
       "  0.33863458037376404,\n",
       "  0.35057923197746277,\n",
       "  0.33234158158302307,\n",
       "  0.34885478019714355,\n",
       "  0.3565727472305298,\n",
       "  0.36409375071525574,\n",
       "  0.35063087940216064,\n",
       "  0.35688909888267517,\n",
       "  0.3489064574241638,\n",
       "  0.35651418566703796,\n",
       "  0.30614006519317627,\n",
       "  0.3489643633365631,\n",
       "  0.3392721116542816,\n",
       "  0.3724284768104553,\n",
       "  0.3140459954738617,\n",
       "  0.29579219222068787,\n",
       "  0.3471080958843231,\n",
       "  0.3196392059326172,\n",
       "  0.39486443996429443,\n",
       "  0.4137945771217346,\n",
       "  0.33727940917015076,\n",
       "  0.30845606327056885,\n",
       "  0.34777870774269104,\n",
       "  0.37489014863967896,\n",
       "  0.39209848642349243,\n",
       "  0.28356921672821045,\n",
       "  0.40594273805618286,\n",
       "  0.3825310170650482,\n",
       "  0.3341333270072937,\n",
       "  0.2721133232116699,\n",
       "  0.32860779762268066,\n",
       "  0.31180092692375183,\n",
       "  0.30419427156448364,\n",
       "  0.3510896861553192,\n",
       "  0.31355616450309753,\n",
       "  0.29736626148223877,\n",
       "  0.32594892382621765,\n",
       "  0.33119040727615356,\n",
       "  0.310649573802948,\n",
       "  0.3342354893684387,\n",
       "  0.3428611755371094,\n",
       "  0.33201560378074646,\n",
       "  0.32154902815818787,\n",
       "  0.41830313205718994,\n",
       "  0.37286055088043213,\n",
       "  0.34145882725715637,\n",
       "  0.29298698902130127,\n",
       "  0.29223668575286865,\n",
       "  0.3054406940937042,\n",
       "  0.39550670981407166,\n",
       "  0.31615352630615234,\n",
       "  0.33101555705070496,\n",
       "  0.33088943362236023,\n",
       "  0.2471785992383957,\n",
       "  0.28994402289390564,\n",
       "  0.312588632106781,\n",
       "  0.3303886651992798,\n",
       "  0.3449530005455017,\n",
       "  0.35889434814453125,\n",
       "  0.31205040216445923,\n",
       "  0.32752877473831177,\n",
       "  0.2894654870033264,\n",
       "  0.265380322933197,\n",
       "  0.3111993670463562,\n",
       "  0.30722323060035706,\n",
       "  0.35104820132255554,\n",
       "  0.3394657373428345,\n",
       "  0.30933794379234314,\n",
       "  0.3784913420677185,\n",
       "  0.3268906772136688,\n",
       "  0.2723545432090759,\n",
       "  0.2868495583534241,\n",
       "  0.2804177701473236,\n",
       "  0.27408915758132935,\n",
       "  0.30674228072166443,\n",
       "  0.36871039867401123,\n",
       "  0.3020133674144745,\n",
       "  0.28066685795783997,\n",
       "  0.31331920623779297,\n",
       "  0.309318870306015,\n",
       "  0.30979058146476746,\n",
       "  0.2672634720802307,\n",
       "  0.22287780046463013,\n",
       "  0.29932814836502075,\n",
       "  0.27386441826820374,\n",
       "  0.28434446454048157,\n",
       "  0.283308744430542,\n",
       "  0.2627732455730438,\n",
       "  0.29344087839126587,\n",
       "  0.31487971544265747,\n",
       "  0.3446762263774872,\n",
       "  0.3120417296886444,\n",
       "  0.3718114197254181,\n",
       "  0.2703666388988495,\n",
       "  0.2957840859889984],\n",
       " [0.38582393527030945, 0.3161889314651489],\n",
       " [tensor(0.8980, device='cuda:0', dtype=torch.float64),\n",
       "  tensor(0.9050, device='cuda:0', dtype=torch.float64)])"
      ]
     },
     "execution_count": 54,
     "metadata": {},
     "output_type": "execute_result"
    }
   ],
   "source": [
    "train(model2, num_epochs=2, device=device)"
   ]
  },
  {
   "cell_type": "markdown",
   "metadata": {},
   "source": [
    "## Tensorboard"
   ]
  },
  {
   "cell_type": "code",
   "execution_count": 11,
   "metadata": {},
   "outputs": [
    {
     "name": "stderr",
     "output_type": "stream",
     "text": [
      "2021-08-15 14:43:58.846958: I tensorflow/stream_executor/platform/default/dso_loader.cc:53] Successfully opened dynamic library libcudart.so.11.0\n"
     ]
    }
   ],
   "source": [
    "from torch.utils.tensorboard import SummaryWriter\n",
    "\n",
    "writer = SummaryWriter('./runs/MNIST2')"
   ]
  },
  {
   "cell_type": "code",
   "execution_count": 12,
   "metadata": {},
   "outputs": [
    {
     "name": "stdout",
     "output_type": "stream",
     "text": [
      "cuda\n"
     ]
    }
   ],
   "source": [
    "device = print('cuda' if torch.cuda.is_available() else 'cpu')\n",
    "device"
   ]
  },
  {
   "cell_type": "code",
   "execution_count": 13,
   "metadata": {},
   "outputs": [],
   "source": [
    "X_train, y_train = map(lambda x: x.to(device), iter(train_loader).next())"
   ]
  },
  {
   "cell_type": "code",
   "execution_count": 91,
   "metadata": {},
   "outputs": [
    {
     "name": "stdout",
     "output_type": "stream",
     "text": [
      "Shape of X_train is torch.Size([512, 1, 28, 28])\n"
     ]
    }
   ],
   "source": [
    "print('Shape of X_train is', X_train.shape)"
   ]
  },
  {
   "cell_type": "code",
   "execution_count": 21,
   "metadata": {},
   "outputs": [],
   "source": [
    "img2 = torch.transpose(\n",
    "        torch.cat(\n",
    "            [X_train[y_train==c][:10] for c in range(10)], axis=0\n",
    "        ).reshape(10, 10, 28, 28),\n",
    "    1, 2\n",
    ").reshape(280, 280)"
   ]
  },
  {
   "cell_type": "code",
   "execution_count": 22,
   "metadata": {},
   "outputs": [
    {
     "data": {
      "image/png": "[encoded data removed]",
      "text/plain": [
       "<Figure size 432x288 with 1 Axes>"
      ]
     },
     "metadata": {
      "needs_background": "light"
     },
     "output_type": "display_data"
    }
   ],
   "source": [
    "plt.imshow(img2)\n",
    "plt.show()"
   ]
  },
  {
   "cell_type": "code",
   "execution_count": 23,
   "metadata": {},
   "outputs": [],
   "source": [
    "writer.add_image('',img2.view(1, 280, 280))"
   ]
  },
  {
   "cell_type": "code",
   "execution_count": 24,
   "metadata": {},
   "outputs": [
    {
     "name": "stdout",
     "output_type": "stream",
     "text": [
      "2021-08-15 14:46:15.389597: I tensorflow/stream_executor/platform/default/dso_loader.cc:53] Successfully opened dynamic library libcudart.so.11.0\n",
      "\n",
      "NOTE: Using experimental fast data loading logic. To disable, pass\n",
      "    \"--load_fast=false\" and report issues on GitHub. More details:\n",
      "    https://github.com/tensorflow/tensorboard/issues/4784\n",
      "\n",
      "Serving TensorBoard on localhost; to expose to the network, use a proxy or pass --bind_all\n",
      "TensorBoard 2.6.0 at http://localhost:6006/ (Press CTRL+C to quit)\n",
      "^C\n"
     ]
    }
   ],
   "source": [
    "!tensorboard --logdir=runs"
   ]
  },
  {
   "cell_type": "code",
   "execution_count": null,
   "metadata": {},
   "outputs": [],
   "source": []
  }
 ],
 "metadata": {
  "accelerator": "GPU",
  "colab": {
   "collapsed_sections": [],
   "name": "Intro-Pytorch",
   "provenance": []
  },
  "kernelspec": {
   "display_name": "Python 3 (ipykernel)",
   "language": "python",
   "name": "python3"
  },
  "language_info": {
   "codemirror_mode": {
    "name": "ipython",
    "version": 3
   },
   "file_extension": ".py",
   "mimetype": "text/x-python",
   "name": "python",
   "nbconvert_exporter": "python",
   "pygments_lexer": "ipython3",
   "version": "3.8.5"
  }
 },
 "nbformat": 4,
 "nbformat_minor": 1
}
